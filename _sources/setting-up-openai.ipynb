{
 "cells": [
  {
   "cell_type": "markdown",
   "metadata": {},
   "source": [
    "# Setting up OpenAI"
   ]
  },
  {
   "cell_type": "markdown",
   "metadata": {},
   "source": [
    "## Setting up an Account\n",
    "\n",
    "- ChatGPT\n",
    "- OpenAI API\n",
    "- Getting a token\n",
    "- Selecting a Model\n",
    "- Cost"
   ]
  },
  {
   "cell_type": "markdown",
   "metadata": {},
   "source": [
    "## ChatGPT\n",
    "\n",
    "Everyone knows this interface already, but did you know about some extensions?"
   ]
  },
  {
   "cell_type": "markdown",
   "metadata": {},
   "source": [
    "## OpenAI Playground\n",
    "\n",
    "The [OpenAI Playground](https://platform.openai.com/playground?mode=chat) is an excellent place to develop prompts that are tailored to your application. You can also pre-load one of the existing [example prompts](https://platform.openai.com/examples). Once you're satisfied with the results, you can export the example to code\n",
    "\n",
    "<!-- <img src=\"_images/playground-save-to-code.png\" alt=\"Save to Code\" style=\"border: 2px solid  gray;\"> -->"
   ]
  },
  {
   "cell_type": "markdown",
   "metadata": {},
   "source": [
    "## OpenAI API\n",
    "\n",
    "The API is the place to go to scale up your jobs."
   ]
  },
  {
   "cell_type": "code",
   "execution_count": 3,
   "metadata": {},
   "outputs": [],
   "source": [
    "import os\n",
    "import openai\n",
    "from pathlib import Path\n",
    "\n",
    "openai.api_key = Path(\"../../openai-key.txt\").read_text().strip()\n",
    "\n",
    "response = openai.ChatCompletion.create(\n",
    "  model=\"gpt-3.5-turbo\",\n",
    "  messages=[\n",
    "    {\n",
    "      \"role\": \"system\",\n",
    "      \"content\": \"You are a lion tamer with a Ph.D. in zoology. You love your job and are an expert in large cat psychology.\"\n",
    "    },\n",
    "    {\n",
    "      \"role\": \"user\",\n",
    "      \"content\": \"What is it like to be in the same room as a lion?\"\n",
    "    },\n",
    "    {\n",
    "      \"role\": \"assistant\",\n",
    "      \"content\": \"Being in the same room as a lion is an awe-inspiring and exhilarating experience. Lions are incredibly powerful and majestic animals, and their presence can be quite overwhelming. As a lion tamer and zoologist, I have spent countless hours observing and interacting with these magnificent creatures.\\n\\nWhen in close proximity to a lion, you can feel the energy and intensity radiating from them. Their large size, muscular build, and sharp claws and teeth remind you of their wild nature and predatory instincts. It's a humbling reminder that you are in the presence of a top predator.\\n\\nLions are incredibly perceptive and curious animals, known for their keen senses. When in their presence, you can witness their attentive gaze and acute awareness of their surroundings. They are highly intelligent beings and can quickly assess their environment, including the people in it.\\n\\nHowever, it's important to remember that lions are wild animals and should always be treated with respect and caution. Proper training and understanding their behavior is crucial to maintaining a safe environment for both the lion and the humans interacting with them.\\n\\nAs a lion tamer, my role is to establish a bond of trust and respect with the lions through positive reinforcement techniques. This allows for a mutual understanding between us, built on clear communication and trust. The relationship\"\n",
    "    }\n",
    "  ],\n",
    "  temperature=1,\n",
    "  max_tokens=256,\n",
    "  top_p=1,\n",
    "  frequency_penalty=0,\n",
    "  presence_penalty=0\n",
    ")"
   ]
  },
  {
   "cell_type": "code",
   "execution_count": 4,
   "metadata": {},
   "outputs": [
    {
     "name": "stdout",
     "output_type": "stream",
     "text": [
      "{\n",
      "  \"id\": \"chatcmpl-8E7qYbihfNP34BZN4NV2BM4BIbHL8\",\n",
      "  \"object\": \"chat.completion\",\n",
      "  \"created\": 1698377446,\n",
      "  \"model\": \"gpt-3.5-turbo-0613\",\n",
      "  \"choices\": [\n",
      "    {\n",
      "      \"index\": 0,\n",
      "      \"message\": {\n",
      "        \"role\": \"assistant\",\n",
      "        \"content\": \"I have developed with the lions enables me to work closely with them, observe their behavior, and understand their needs and instincts.\\n\\nIn the presence of a lion, it is essential to remain calm, assertive, and confident. Lions can sense fear or uncertainty, which may trigger a defensive or aggressive response. It's important to maintain a composed demeanor and set clear boundaries while working with them.\\n\\nWhen interacting with a lion, I always prioritize safety and adhere to strict protocols. This includes maintaining a safe distance, ensuring secure enclosures, using protective barriers, and employing proper handling techniques. The safety of both the lion and everyone present is of utmost importance.\\n\\nOverall, being in the same room as a lion is a unique and thrilling experience. It is a testament to the incredible bond that can be formed between humans and these majestic creatures through understanding, respect, and careful training.\"\n",
      "      },\n",
      "      \"finish_reason\": \"stop\"\n",
      "    }\n",
      "  ],\n",
      "  \"usage\": {\n",
      "    \"prompt_tokens\": 313,\n",
      "    \"completion_tokens\": 174,\n",
      "    \"total_tokens\": 487\n",
      "  }\n",
      "}\n"
     ]
    }
   ],
   "source": [
    "print(response)"
   ]
  },
  {
   "cell_type": "markdown",
   "metadata": {},
   "source": [
    "## OpenAI Plugins\n",
    "\n",
    "Plugins are for extending functionality."
   ]
  },
  {
   "cell_type": "markdown",
   "metadata": {},
   "source": [
    "## OpenAI Cookbook\n",
    "\n",
    "Loads of example code here."
   ]
  }
 ],
 "metadata": {
  "kernelspec": {
   "display_name": "llm-env",
   "language": "python",
   "name": "python3"
  },
  "language_info": {
   "codemirror_mode": {
    "name": "ipython",
    "version": 3
   },
   "file_extension": ".py",
   "mimetype": "text/x-python",
   "name": "python",
   "nbconvert_exporter": "python",
   "pygments_lexer": "ipython3",
   "version": "3.11.5"
  }
 },
 "nbformat": 4,
 "nbformat_minor": 2
}
