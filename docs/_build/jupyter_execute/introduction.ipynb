{
 "cells": [
  {
   "cell_type": "markdown",
   "id": "4b21899c",
   "metadata": {},
   "source": [
    "# Workshop"
   ]
  },
  {
   "cell_type": "markdown",
   "id": "386ef519",
   "metadata": {},
   "source": [
    "## Goals"
   ]
  },
  {
   "cell_type": "markdown",
   "id": "fc367f8d",
   "metadata": {},
   "source": [
    ":::{admonition} Objective\n",
    ":class: important\n",
    "The goals of this workshop are to look at best practices with regard to:\n",
    "- <b>Scaling</b> jobs using the OpenAI API\n",
    "- <b>Validating</b> results created using the OpenAI API\n",
    "- <b>Reproducing</b> results created using the OpenAI API\n",
    ":::"
   ]
  },
  {
   "attachments": {},
   "cell_type": "markdown",
   "id": "95f0a171",
   "metadata": {},
   "source": [
    "## Outline"
   ]
  },
  {
   "cell_type": "markdown",
   "id": "d76e49bb",
   "metadata": {},
   "source": [
    ":::{admonition} 1. Introduction\n",
    ":class: important\n",
    "- Brief overview of Generative Pre-trained Transformers (GPTs)\n",
    "- High-level overview of what you can do with them\n",
    "- OpenAI API setup\n",
    "```{admonition} Note\n",
    "The focus will be on using the API, not the ChatGPT web application\n",
    "```\n",
    ":::"
   ]
  },
  {
   "cell_type": "markdown",
   "id": "7dc112c3",
   "metadata": {},
   "source": [
    ":::{admonition} 2. Use Cases\n",
    ":class: important\n",
    "- Text Classification (sentiment analysis)\n",
    "- Speech to Text\n",
    "- Text Analysis (extracting structured information)\n",
    "- Programming Assistance\n",
    "```{admonition} Note\n",
    "We will discuss topics like prompt engineering, testing, and evaluation of results\n",
    "```\n",
    ":::"
   ]
  },
  {
   "cell_type": "markdown",
   "id": "26ba1366",
   "metadata": {},
   "source": [
    ":::{admonition} 3. Advanced Topics\n",
    ":class: important\n",
    "- Function calling from prompts\n",
    "- Retrival Augmented Generation (RAG)\n",
    "```{admonition} Note\n",
    "This is a living document, and topics will be updated and extended in the future. Documentation and code is available from the [github repo](https://github.com/rs-kellogg/krs-llm-cookbook)\n",
    "```\n",
    ":::"
   ]
  }
 ],
 "metadata": {
  "interpreter": {
   "hash": "9d7534ecd9fbc7d385378f8400cf4d6cb9c6175408a574f1c99c5269f08771cc"
  },
  "jupytext": {
   "cell_metadata_filter": "-all",
   "encoding": "# -*- coding: utf-8 -*-",
   "formats": "md:myst",
   "main_language": "python"
  },
  "kernelspec": {
   "display_name": "Python 3 (ipykernel)",
   "language": "python",
   "name": "python3"
  },
  "language_info": {
   "codemirror_mode": {
    "name": "ipython",
    "version": 3
   },
   "file_extension": ".py",
   "mimetype": "text/x-python",
   "name": "python",
   "nbconvert_exporter": "python",
   "pygments_lexer": "ipython3",
   "version": "3.11.5"
  },
  "toc-showtags": true
 },
 "nbformat": 4,
 "nbformat_minor": 5
}