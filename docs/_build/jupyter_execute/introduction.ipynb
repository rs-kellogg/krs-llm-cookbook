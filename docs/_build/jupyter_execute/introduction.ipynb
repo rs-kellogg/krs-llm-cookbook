{
 "cells": [
  {
   "attachments": {},
   "cell_type": "markdown",
   "id": "95f0a171",
   "metadata": {},
   "source": [
    "(introduction)=\n",
    "\n",
    "## Workshop Outline\n",
    "\n",
    "- Focus on OpenAI offerings"
   ]
  },
  {
   "attachments": {},
   "cell_type": "markdown",
   "id": "aabdbc7d",
   "metadata": {},
   "source": [
    "This book was compiled with the following version of Python:"
   ]
  },
  {
   "cell_type": "code",
   "execution_count": 1,
   "id": "26faf349",
   "metadata": {
    "tags": [
     "remove-input"
    ]
   },
   "outputs": [
    {
     "name": "stdout",
     "output_type": "stream",
     "text": [
      "Compiled with Python version: 3.11.4 (main, Jul  5 2023, 08:40:20) [Clang 14.0.6 ]\n"
     ]
    }
   ],
   "source": [
    "# remove-input\n",
    "import sys\n",
    "\n",
    "print(\"Compiled with Python version:\", sys.version)"
   ]
  }
 ],
 "metadata": {
  "interpreter": {
   "hash": "9d7534ecd9fbc7d385378f8400cf4d6cb9c6175408a574f1c99c5269f08771cc"
  },
  "jupytext": {
   "cell_metadata_filter": "-all",
   "encoding": "# -*- coding: utf-8 -*-",
   "formats": "md:myst",
   "main_language": "python"
  },
  "kernelspec": {
   "display_name": "Python 3 (ipykernel)",
   "language": "python",
   "name": "python3"
  },
  "language_info": {
   "codemirror_mode": {
    "name": "ipython",
    "version": 3
   },
   "file_extension": ".py",
   "mimetype": "text/x-python",
   "name": "python",
   "nbconvert_exporter": "python",
   "pygments_lexer": "ipython3",
   "version": "3.11.4"
  },
  "toc-showtags": true
 },
 "nbformat": 4,
 "nbformat_minor": 5
}