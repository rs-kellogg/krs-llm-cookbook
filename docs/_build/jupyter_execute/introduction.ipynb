{
 "cells": [
  {
   "attachments": {},
   "cell_type": "markdown",
   "id": "95f0a171",
   "metadata": {},
   "source": [
    "# Workshop Outline"
   ]
  },
  {
   "cell_type": "markdown",
   "id": "fb8b2e09",
   "metadata": {},
   "source": [
    ":::{admonition} 1. Introduction\n",
    "- Brief overview of GPTs\n",
    "- High-level overview of what you can do with them\n",
    "- OpenAI Setup\n",
    "\n",
    "```{admonition} Note\n",
    ":class: attention\n",
    "The focus will be on using the OpenAI API, not the ChatGPT Application\n",
    "```\n",
    ":::"
   ]
  },
  {
   "cell_type": "markdown",
   "id": "10f8f95f",
   "metadata": {},
   "source": [
    ":::{admonition} 2. Use Cases\n",
    "- Text Analysis (extracting structured information)\n",
    "- Text Classification (sentiment analysis)\n",
    "- Speech to Text\n",
    "- Programming Assistance\n",
    "\n",
    "```{admonition} Note\n",
    ":class: attention\n",
    "We will discuss topics like prompt engineering, testing, and evaluation of results\n",
    "```\n",
    ":::"
   ]
  },
  {
   "cell_type": "markdown",
   "id": "ee2c1ccc",
   "metadata": {},
   "source": [
    ":::{admonition} 3. Advanced Topics\n",
    "- Fine-Tuning Models\n",
    "- Retrival Augmented Generation (RAG)\n",
    "\n",
    "```{admonition} Note\n",
    ":class: attention\n",
    "This is a living document, and topics will be updated and extended in the future.\n",
    "```\n",
    ":::"
   ]
  }
 ],
 "metadata": {
  "interpreter": {
   "hash": "9d7534ecd9fbc7d385378f8400cf4d6cb9c6175408a574f1c99c5269f08771cc"
  },
  "jupytext": {
   "cell_metadata_filter": "-all",
   "encoding": "# -*- coding: utf-8 -*-",
   "formats": "md:myst",
   "main_language": "python"
  },
  "kernelspec": {
   "display_name": "Python 3 (ipykernel)",
   "language": "python",
   "name": "python3"
  },
  "language_info": {
   "codemirror_mode": {
    "name": "ipython",
    "version": 3
   },
   "file_extension": ".py",
   "mimetype": "text/x-python",
   "name": "python",
   "nbconvert_exporter": "python",
   "pygments_lexer": "ipython3",
   "version": "3.11.5"
  },
  "toc-showtags": true
 },
 "nbformat": 4,
 "nbformat_minor": 5
}