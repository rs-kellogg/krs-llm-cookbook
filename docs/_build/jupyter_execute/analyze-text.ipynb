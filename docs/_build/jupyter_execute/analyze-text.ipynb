{
 "cells": [
  {
   "cell_type": "markdown",
   "metadata": {},
   "source": [
    "# Analyze Text"
   ]
  },
  {
   "cell_type": "markdown",
   "metadata": {},
   "source": [
    " :::{admonition} Development Process\n",
    " :class: important\n",
    "- Come up with an idea 😀\n",
    "- Identify a dataset and specify precisely what you want to extract\n",
    "- Engineer a prompt (use OpenAI Playground)\n",
    "- Evaluate performance on a sample\n",
    "    * If performance is unacceptable, try further prompt engineering, functions, etc.\n",
    "    * If performance is still not good enough, try fine-tuning\n",
    "- Deploy\n",
    ":::\n",
    "\n",
    "```{figure} ./images/gpt-dev-cycle.png\n",
    "---\n",
    "width: 600px\n",
    "name: gpt-dev-cycle\n",
    "---\n",
    "```"
   ]
  },
  {
   "cell_type": "markdown",
   "metadata": {},
   "source": [
    ":::{admonition} An Idea\n",
    ":class: tip\n",
    "Identify clusters of people who are collaborating on Large Language Model research.\n",
    ":::\n",
    "\n",
    "```{figure} ./images/map-blank.png\n",
    "---\n",
    "width: 600px\n",
    "name: map-blank\n",
    "---\n",
    "```"
   ]
  },
  {
   "cell_type": "markdown",
   "metadata": {},
   "source": [
    ":::{admonition} Gather Data\n",
    ":class: tip\n",
    "Promising dataset: [arXive](https://arxiv.org/)\n",
    "PDF files available, as well as [metadata](https://www.kaggle.com/datasets/Cornell-University/arxiv/)\n",
    ":::"
   ]
  },
  {
   "cell_type": "markdown",
   "metadata": {},
   "source": [
    ":::{admonition} Specify what information to extract\n",
    ":class: tip\n",
    "TBD\n",
    ":::"
   ]
  },
  {
   "cell_type": "markdown",
   "metadata": {},
   "source": [
    ":::{admonition} Develop a Prompt\n",
    "[OpenAI playground](https://platform.openai.com/playground)\n",
    ":::\n",
    "\n",
    ":::{card} Prompt engineering\n",
    "There are various prompting strategies you can use to improve performance. [OpenAI]([Prompt Engineering](https://platform.openai.com/docs/guides/prompt-engineering/strategy-write-clear-instructions) has a very good guide to help you out. They also provide lots of examples to look at.\n",
    ":::"
   ]
  },
  {
   "cell_type": "code",
   "execution_count": 1,
   "metadata": {
    "tags": [
     "hide-input"
    ]
   },
   "outputs": [],
   "source": [
    "import os\n",
    "import openai\n",
    "from dotenv import load_dotenv\n",
    "\n",
    "# load the .env file containing your API key\n",
    "load_dotenv()\n",
    "openai.api_key = os.getenv(\"OPENAI_API_KEY\")"
   ]
  },
  {
   "cell_type": "markdown",
   "metadata": {},
   "source": [
    ":::{admonition} Evaluate on a sample\n",
    ":class: tip\n",
    "TBD\n",
    ":::"
   ]
  },
  {
   "cell_type": "markdown",
   "metadata": {},
   "source": [
    ":::{admonition} Deploy\n",
    ":class: tip\n",
    "TBD\n",
    ":::"
   ]
  },
  {
   "cell_type": "markdown",
   "metadata": {},
   "source": [
    ":::{admonition} Payoff\n",
    ":class: important\n",
    "Map video\n",
    ":::"
   ]
  }
 ],
 "metadata": {
  "kernelspec": {
   "display_name": "llm-env",
   "language": "python",
   "name": "python3"
  },
  "language_info": {
   "codemirror_mode": {
    "name": "ipython",
    "version": 3
   },
   "file_extension": ".py",
   "mimetype": "text/x-python",
   "name": "python",
   "nbconvert_exporter": "python",
   "pygments_lexer": "ipython3",
   "version": "3.11.5"
  }
 },
 "nbformat": 4,
 "nbformat_minor": 2
}