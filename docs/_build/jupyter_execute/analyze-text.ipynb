{
 "cells": [
  {
   "cell_type": "markdown",
   "metadata": {},
   "source": [
    "# Analyze Text"
   ]
  },
  {
   "cell_type": "markdown",
   "metadata": {},
   "source": [
    ":::{admonition} Goal\n",
    "Extract authors, affiliations, geolocate. Visualize on a map.\n",
    ":::"
   ]
  },
  {
   "cell_type": "markdown",
   "metadata": {},
   "source": [
    " :::{important} Process\n",
    "- Get data and specify precisely what you want to extract\n",
    "- Develop prompt (use OpenAI Playground)\n",
    "- Develop (tested) code to extract information\n",
    "- Run on (sample) corpus\n",
    "- Evaluate performance\n",
    "    * If performance is unacceptable, try further prompt engineering, functions, etc.\n",
    "    * If performance is still not good enough, try fine-tuning\n",
    ":::"
   ]
  },
  {
   "cell_type": "markdown",
   "metadata": {},
   "source": [
    "## Get Data\n",
    "\n",
    ":::{admonition} [arXive](https://arxiv.org/)\n",
    "PDF files available, as well as [metadata](https://www.kaggle.com/datasets/Cornell-University/arxiv/)\n",
    ":::\n",
    "\n",
    "```bash\n",
    "openaihelper extract-text pdf/ --dir text --end-page 0\n",
    "```"
   ]
  },
  {
   "cell_type": "markdown",
   "metadata": {},
   "source": [
    ":::{admonition} [Prompt Engineering](https://platform.openai.com/docs/guides/prompt-engineering/strategy-write-clear-instructions)\n",
    "[OpenAI playground](https://platform.openai.com/playground)\n",
    ":::\n",
    ":::{card} [OpenAI playground](https://platform.openai.com/playground)\n",
    "The [OpenAI Playground](https://platform.openai.com/playground?mode=chat) is an excellent place to develop prompts that are tailored to your application. You can also pre-load one of the existing [example prompts](https://platform.openai.com/examples). Once you're satisfied with the results, you can export the example to code\n",
    ":::\n",
    "\n",
    "<!-- :::{admonition} Prompt Engineering\n",
    "```{figure} ./images/openai-playground.png\n",
    "---\n",
    "width: 600px\n",
    "name: openai-playground\n",
    "---\n",
    "```\n",
    ":::\n",
    "\n",
    "\n",
    ":::{admonition} Generate Code\n",
    "```{figure} ./images/playground-save-to-code.png\n",
    "---\n",
    "width: 600px\n",
    "name: playground-save-to-code\n",
    "---\n",
    "```\n",
    "::: -->"
   ]
  },
  {
   "cell_type": "code",
   "execution_count": 1,
   "metadata": {},
   "outputs": [],
   "source": [
    "import os\n",
    "import openai\n",
    "from dotenv import load_dotenv\n",
    "\n",
    "# load the .env file containing your API key\n",
    "load_dotenv()\n",
    "openai.api_key = os.getenv(\"OPENAI_API_KEY\")"
   ]
  },
  {
   "cell_type": "code",
   "execution_count": null,
   "metadata": {},
   "outputs": [],
   "source": []
  }
 ],
 "metadata": {
  "kernelspec": {
   "display_name": "llm-env",
   "language": "python",
   "name": "python3"
  },
  "language_info": {
   "codemirror_mode": {
    "name": "ipython",
    "version": 3
   },
   "file_extension": ".py",
   "mimetype": "text/x-python",
   "name": "python",
   "nbconvert_exporter": "python",
   "pygments_lexer": "ipython3",
   "version": "3.11.5"
  }
 },
 "nbformat": 4,
 "nbformat_minor": 2
}