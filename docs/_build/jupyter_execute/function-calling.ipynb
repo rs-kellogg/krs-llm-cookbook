{
 "cells": [
  {
   "cell_type": "markdown",
   "metadata": {},
   "source": [
    "\n",
    "\n",
    "# Function calling\n",
    "We strongly recommend checking the official [Function-calling](https://platform.openai.com/docs/guides/function-calling) page for the most up-to-date information.\n",
    "\n",
    "#### Overview\n",
    "Objective: more reliably get structured data back from the model\n",
    "- Create assistants that answer questions by calling external APIs (e.g. like ChatGPT Plugins)\n",
    "    - send_email(to: string, body: string)\n",
    "    - get_current_weather(location: string, unit: 'celsius' | 'fahrenheit')\n",
    "- Convert natural language into API calls\n",
    "    - get_customers(min_revenue: int, created_before: string, limit: int) from internal API\n",
    "- Extract structured data from text\n",
    "    - extract_data(name: string, birthday: string)\n",
    "    - sql_query(query: string)\n",
    "\n",
    "#### Basics\n",
    "- **YOU**: describe the function\n",
    "- **YOU**: call the model with user query + function parameter\n",
    "- **MODEL**: choose to call one or more functions and generate a JSON object with function arguments\n",
    "- **YOU**: call your function with the provided arguments \n",
    "- **YOU**: call the model again with the function response in query\n",
    "\n",
    "#### Reference\n",
    "Full detailed information about function-calling can be found in the OpenAI cookbook for [\"How to call functions with chat models\"](https://cookbook.openai.com/examples/how_to_call_functions_with_chat_models).   \n",
    "\n",
    "#### Flight Status Query Project \n",
    "We demonstrate how function-call can be adopted in this example.\n"
   ]
  },
  {
   "cell_type": "code",
   "execution_count": 1,
   "metadata": {},
   "outputs": [],
   "source": [
    "import json\n",
    "from openai import OpenAI\n",
    "import os\n",
    "from dotenv import load_dotenv\n",
    "\n",
    "load_dotenv()\n",
    "client = OpenAI()"
   ]
  },
  {
   "cell_type": "markdown",
   "metadata": {},
   "source": [
    "- Step 0: Wrote helper function to get flight status"
   ]
  },
  {
   "cell_type": "code",
   "execution_count": 2,
   "metadata": {},
   "outputs": [],
   "source": [
    "import requests\n",
    "from bs4 import BeautifulSoup\n",
    "from datetime import datetime\n",
    "\n",
    "# Python code for flight status is adapted from \n",
    "# https://www.tutorialspoint.com/get-flight-status-using-python\n",
    "def get_flight_status(airline_code, flight_number, day, month, year):\n",
    "    def get_data(url):\n",
    "        response = requests.get(url)\n",
    "        return response.text\n",
    "\n",
    "    url = f\"https://www.flightstats.com/v2/flight-tracker/{airline_code}/{flight_number}?year={year}&month={month}&date={day}\"\n",
    "    html_data = get_data(url)\n",
    "\n",
    "    soup = BeautifulSoup(html_data, 'html.parser')\n",
    "\n",
    "    statuses = [\n",
    "        item.get_text() for item in soup.find_all(\"div\", class_=\"text-helper__TextHelper-sc-8bko4a-0 feVjck\")\n",
    "    ]\n",
    "    time_statuses = [\n",
    "        item.get_text() for item in soup.find_all(\"div\", class_=\"text-helper__TextHelper-sc-8bko4a-0 kbHzdx\")\n",
    "    ]\n",
    "\n",
    "    return statuses[0], time_statuses[0], time_statuses[2]"
   ]
  },
  {
   "cell_type": "markdown",
   "metadata": {},
   "source": [
    "- Step 1: We asked GPT model about flight status, supplying function name and details"
   ]
  },
  {
   "cell_type": "code",
   "execution_count": 3,
   "metadata": {},
   "outputs": [
    {
     "name": "stdout",
     "output_type": "stream",
     "text": [
      "ChatCompletion(id='chatcmpl-8JLwplX6jjVH4G8uztQHbxlT4jFzU', choices=[Choice(finish_reason='function_call', index=0, message=ChatCompletionMessage(content=None, role='assistant', function_call=FunctionCall(arguments='{\\n  \"airline_code\": \"UA\",\\n  \"flight_number\": 792,\\n  \"day\": 9,\\n  \"month\": 11,\\n  \"year\": 2023\\n}', name='get_flight_status'), tool_calls=None))], created=1699623291, model='gpt-3.5-turbo-0613', object='chat.completion', system_fingerprint=None, usage=CompletionUsage(completion_tokens=48, prompt_tokens=119, total_tokens=167))\n"
     ]
    }
   ],
   "source": [
    "response = client.chat.completions.create(\n",
    "  model = \"gpt-3.5-turbo-0613\",\n",
    "  messages = [\n",
    "    {\n",
    "      \"role\": \"user\",\n",
    "      \"content\": \"What is the flight status of UA 792 for Nov 9, 2023?\"\n",
    "    }\n",
    "  ],\n",
    "  functions = [\n",
    "    {\n",
    "      \"name\": \"get_flight_status\",\n",
    "      \"description\": \"Get the current flight status\",\n",
    "      \"parameters\": {\n",
    "          \"type\": \"object\",\n",
    "          \"properties\": {\n",
    "              \"airline_code\": {\n",
    "                  \"type\": \"string\",\n",
    "                  \"description\": \"Shorthand notation for airline, e.g. UA, AA\"\n",
    "              },\n",
    "              \"flight_number\": {\n",
    "                  \"type\": \"integer\",\n",
    "                  \"description\": \"Flight number\"\n",
    "              },\n",
    "              \"day\": {\n",
    "                  \"type\": \"integer\",\n",
    "                  \"description\": \"Day of the flight\"\n",
    "              },\n",
    "              \"month\": {\n",
    "                  \"type\": \"integer\",\n",
    "                  \"description\": \"Month of the flight\"\n",
    "              },\n",
    "              \"year\": {\n",
    "                  \"type\": \"integer\",\n",
    "                  \"description\": \"Year of the flight\"\n",
    "              },\n",
    "            },\n",
    "          \"required\": [\"airline_code\",\"flight_number\",\"day\",\"month\",\"year\"]\n",
    "        }\n",
    "    }\n",
    "  ]\n",
    ")\n",
    "print(response)"
   ]
  },
  {
   "cell_type": "markdown",
   "metadata": {},
   "source": [
    "- Step 2: GPT responded with function call arguments. We parsed the response and ran our helper function "
   ]
  },
  {
   "cell_type": "code",
   "execution_count": 4,
   "metadata": {},
   "outputs": [
    {
     "name": "stdout",
     "output_type": "stream",
     "text": [
      "On timeDeparting at 06:00 CST Arriving at 09:06 EST\n"
     ]
    }
   ],
   "source": [
    "import json\n",
    "function_name = response.choices[0].message.function_call.name\n",
    "arguments = response.choices[0].message.function_call.arguments\n",
    "# Read arguments to dictionary\n",
    "arguments = json.loads(arguments)\n",
    "# Call helper function\n",
    "function_response = locals()[function_name](arguments[\"airline_code\"], arguments[\"flight_number\"], arguments[\"day\"], arguments[\"month\"], arguments[\"year\"])\n",
    "# Customize function message\n",
    "function_response_msg = function_response[0] + \"Departing at \" + function_response[1] + \" Arriving at \" + function_response[2]\n",
    "print(function_response_msg)"
   ]
  },
  {
   "cell_type": "markdown",
   "metadata": {},
   "source": [
    "- Step 3: We added helper function output to GPT query and called GPT model for the final response"
   ]
  },
  {
   "cell_type": "code",
   "execution_count": 5,
   "metadata": {},
   "outputs": [
    {
     "name": "stdout",
     "output_type": "stream",
     "text": [
      "ChatCompletion(id='chatcmpl-8JLwrVvNEZssUDuo4Tr4xCAkxhpiW', choices=[Choice(finish_reason='stop', index=0, message=ChatCompletionMessage(content='The flight status of UA 792 for Nov 9, 2023 is on time. It is scheduled to depart at 06:00 CST and arrive at 09:06 EST.', role='assistant', function_call=None, tool_calls=None))], created=1699623293, model='gpt-3.5-turbo-0613', object='chat.completion', system_fingerprint=None, usage=CompletionUsage(completion_tokens=40, prompt_tokens=143, total_tokens=183))\n"
     ]
    }
   ],
   "source": [
    "response_2 = client.chat.completions.create(\n",
    "  model = \"gpt-3.5-turbo-0613\",\n",
    "  messages = [\n",
    "    {\n",
    "      \"role\": \"user\",\n",
    "      \"content\": \"What is the flight status of UA 792 for Nov 9, 2023?\"\n",
    "    },\n",
    "    {\n",
    "      \"role\": \"function\",\n",
    "      \"name\": \"get_flight_status\",\n",
    "      \"content\": function_response_msg\n",
    "    }\n",
    "  ],\n",
    "  functions = [\n",
    "    {\n",
    "      \"name\": \"get_flight_status\",\n",
    "      \"description\": \"Get the current flight status\",\n",
    "      \"parameters\": {\n",
    "          \"type\": \"object\",\n",
    "          \"properties\": {\n",
    "              \"airline_code\": {\n",
    "                  \"type\": \"string\",\n",
    "                  \"description\": \"Shorthand notation for airline, e.g. UA, AA\"\n",
    "              },\n",
    "              \"flight_number\": {\n",
    "                  \"type\": \"integer\",\n",
    "                  \"description\": \"Flight number\"\n",
    "              },\n",
    "              \"day\": {\n",
    "                  \"type\": \"integer\",\n",
    "                  \"description\": \"Day of the flight\"\n",
    "              },\n",
    "              \"month\": {\n",
    "                  \"type\": \"integer\",\n",
    "                  \"description\": \"Month of the flight\"\n",
    "              },\n",
    "              \"year\": {\n",
    "                  \"type\": \"integer\",\n",
    "                  \"description\": \"Year of the flight\"\n",
    "              },\n",
    "            },\n",
    "          \"required\": [\"airline_code\",\"flight_number\",\"day\",\"month\",\"year\"]\n",
    "        }\n",
    "    }\n",
    "  ]\n",
    ")\n",
    "print(response_2)"
   ]
  },
  {
   "cell_type": "markdown",
   "metadata": {},
   "source": [
    "- Now GPT can tell you the flight status!"
   ]
  },
  {
   "cell_type": "code",
   "execution_count": 6,
   "metadata": {},
   "outputs": [
    {
     "name": "stdout",
     "output_type": "stream",
     "text": [
      "The flight status of UA 792 for Nov 9, 2023 is on time. It is scheduled to depart at 06:00 CST and arrive at 09:06 EST.\n"
     ]
    }
   ],
   "source": [
    "print(response_2.choices[0].message.content)"
   ]
  }
 ],
 "metadata": {
  "kernelspec": {
   "display_name": "Python 3",
   "language": "python",
   "name": "python3"
  },
  "language_info": {
   "codemirror_mode": {
    "name": "ipython",
    "version": 3
   },
   "file_extension": ".py",
   "mimetype": "text/x-python",
   "name": "python",
   "nbconvert_exporter": "python",
   "pygments_lexer": "ipython3",
   "version": "3.11.5"
  }
 },
 "nbformat": 4,
 "nbformat_minor": 2
}