{
 "cells": [
  {
   "cell_type": "markdown",
   "metadata": {},
   "source": [
    "# OpenAI Setup\n",
    "\n",
    ":::{important}\n",
    "OpenAI provides two services: a web-based chat application, and an API with programmatic access\n",
    ":::\n",
    "\n",
    "\n",
    "\n",
    ":::{admonition} Take your pick\n",
    "```{figure} ./images/chat-vs-api.png\n",
    "---\n",
    "width: 600px\n",
    "name: chat-vs-api\n",
    "---\n",
    "[Two services, two billing accounts](https://platform.openai.com/apps)\n",
    "```\n",
    ":::\n"
   ]
  },
  {
   "cell_type": "markdown",
   "metadata": {},
   "source": [
    "## ChatGPT"
   ]
  },
  {
   "cell_type": "markdown",
   "metadata": {},
   "source": [
    ":::{card} **ChatGPT**\n",
    "ChatGPT offers a fixed-cost way to try out capabilities. If you buy the \"Plus\" plan, you can use the most up-to-date models and features.\n",
    ":::\n",
    "\n",
    ":::{admonition} Plan\n",
    "```{figure} ./images/chatgpt-plan.png\n",
    "---\n",
    "width: 600px\n",
    "name: chatgpt-plan\n",
    "---\n",
    "```\n",
    ":::\n",
    "\n",
    ":::{admonition} Settings\n",
    "```{figure} ./images/chatgpt-settings.png\n",
    "---\n",
    "width: 600px\n",
    "name: chatgpt-settings\n",
    "---\n",
    ":::"
   ]
  },
  {
   "cell_type": "markdown",
   "metadata": {},
   "source": [
    "## API\n",
    "\n",
    ":::{card} **OpenAI API**\n",
    "The OpenAI API offers pay as you go service that allows you to write code and automate your interaction with GPT resources. This is the way to go to scale up your jobs to hundreds or thousands of inputs.\n",
    ":::\n",
    "\n",
    ":::{admonition} Platform Offerings\n",
    "```{figure} ./images/openai-platform.png\n",
    "---\n",
    "width: 600px\n",
    "name: openai-platform\n",
    "---\n",
    "```\n",
    ":::\n",
    "\n",
    ":::{admonition} Billing\n",
    "```{figure} ./images/openai-api-billing.png\n",
    "---\n",
    "width: 600px\n",
    "name: openai-billing\n",
    "---\n",
    "```\n",
    ":::\n",
    "\n",
    ":::{admonition} API Keys\n",
    "```{figure} ./images/openai-api-keys.png\n",
    "---\n",
    "width: 600px\n",
    "name: openai-keys\n",
    "---\n",
    "```\n",
    ":::"
   ]
  },
  {
   "cell_type": "markdown",
   "metadata": {},
   "source": [
    "## Playground\n",
    "\n",
    ":::{card} OpenAI Playground\n",
    "The [OpenAI Playground](https://platform.openai.com/playground?mode=chat) is an excellent place to develop prompts that are tailored to your application. You can also pre-load one of the existing [example prompts](https://platform.openai.com/examples). Once you're satisfied with the results, you can export the example to code\n",
    ":::\n",
    "\n",
    ":::{admonition} Prompt Engineering\n",
    "```{figure} ./images/openai-playground.png\n",
    "---\n",
    "width: 600px\n",
    "name: openai-playground\n",
    "---\n",
    "```\n",
    ":::\n",
    "\n",
    "\n",
    ":::{admonition} Generate Code\n",
    "```{figure} ./images/playground-save-to-code.png\n",
    "---\n",
    "width: 600px\n",
    "name: playground-save-to-code\n",
    "---\n",
    "```\n",
    ":::"
   ]
  },
  {
   "cell_type": "markdown",
   "metadata": {},
   "source": [
    "## Code Example"
   ]
  },
  {
   "cell_type": "code",
   "execution_count": 1,
   "metadata": {},
   "outputs": [
    {
     "name": "stdout",
     "output_type": "stream",
     "text": [
      "OPENAI_API_KEY: sk-3...\n"
     ]
    }
   ],
   "source": [
    "import os\n",
    "from dotenv import load_dotenv # pip install python-dotenv\n",
    "\n",
    "# load the .env file containing your API key\n",
    "load_dotenv()\n",
    "\n",
    "# print (obfuscated) API key\n",
    "print(f\"OPENAI_API_KEY: {os.getenv('OPENAI_API_KEY')[:4]}...\")"
   ]
  },
  {
   "cell_type": "code",
   "execution_count": 2,
   "metadata": {},
   "outputs": [
    {
     "name": "stdout",
     "output_type": "stream",
     "text": [
      "{\n",
      "  \"id\": \"chatcmpl-8IROXNT4tAl8abuRn2hAM5kfqeIgk\",\n",
      "  \"object\": \"chat.completion\",\n",
      "  \"created\": 1699405901,\n",
      "  \"model\": \"gpt-3.5-turbo-0613\",\n",
      "  \"choices\": [\n",
      "    {\n",
      "      \"index\": 0,\n",
      "      \"message\": {\n",
      "        \"role\": \"assistant\",\n",
      "        \"content\": \"Being in the same room as a lion is an incredible experience. It evokes a mix of awe, respect, and admiration for these magnificent creatures. As a lion tamer, I rely on my expertise in large cat psychology to navigate these interactions safely.\\n\\nWhen entering a lion's presence, it is important to remain calm and confident, as these animals are highly perceptive and can sense even the slightest hint of fear or insecurity. Lions are apex predators, and their presence exudes power and authority. But when approached with the right techniques and respect, they can also display a remarkable degree of trust and cooperation.\\n\\nBuilding a strong bond and mutual understanding with captive lions takes time and patience. It involves establishing clear communication, consistency, and positive reinforcement. Training sessions focus on stimulating the lion's natural instincts through activities such as target training, agility exercises, and puzzle-solving. These activities help keep their minds engaged and provide both mental and physical stimulation.\\n\\nDuring these interactions, it is important to remember that lions are still wild animals, and careful observation is necessary to interpret their body language and respond accordingly. Each lion has its own unique personality, and understanding their individual behavior patterns and preferences is crucial for fostering a harmonious environment.\\n\\nOverall, being in the same room as a lion is an absolute\"\n",
      "      },\n",
      "      \"finish_reason\": \"length\"\n",
      "    }\n",
      "  ],\n",
      "  \"usage\": {\n",
      "    \"prompt_tokens\": 53,\n",
      "    \"completion_tokens\": 256,\n",
      "    \"total_tokens\": 309\n",
      "  }\n",
      "}\n"
     ]
    }
   ],
   "source": [
    "import os\n",
    "import openai\n",
    "\n",
    "response = openai.ChatCompletion.create(\n",
    "  model=\"gpt-3.5-turbo\",\n",
    "  messages=[\n",
    "    {\n",
    "      \"role\": \"system\",\n",
    "      \"content\": \"You are a lion tamer with a Ph.D. in zoology. You love your job and are an expert in large cat psychology.\"\n",
    "    },\n",
    "    {\n",
    "      \"role\": \"user\",\n",
    "      \"content\": \"What is it like to be in the same room as a lion?\"\n",
    "    }\n",
    "  ],\n",
    "  temperature=1,\n",
    "  max_tokens=256,\n",
    "  top_p=1,\n",
    "  frequency_penalty=0,\n",
    "  presence_penalty=0\n",
    ")\n",
    "\n",
    "print(response)"
   ]
  },
  {
   "cell_type": "code",
   "execution_count": 3,
   "metadata": {
    "tags": [
     "hide-input"
    ]
   },
   "outputs": [],
   "source": [
    "from myst_nb import glue\n",
    "\n",
    "response_text = response['choices'][0].message.content\n",
    "glue(\"response_text\", response_text, display=False)"
   ]
  },
  {
   "cell_type": "markdown",
   "metadata": {},
   "source": [
    "{glue:text}`response_text`\n"
   ]
  },
  {
   "cell_type": "markdown",
   "metadata": {},
   "source": []
  },
  {
   "cell_type": "markdown",
   "metadata": {},
   "source": [
    "## Documentation\n",
    "\n",
    ":::{card} [Documentation](https://platform.openai.com/docs/introduction)\n",
    "OpenAI provides a *lot* of documentation. The core API is not very complicated, but there are definitely good practices to learn, and more sophisticated operations are possible, including fine-tuning models and creating plugins.\n",
    ":::\n",
    "\n",
    ":::{admonition} [OpenAI API Reference](https://platform.openai.com/docs/api-reference) \n",
    "```{figure} ./images/openai-api-reference.png\n",
    "---\n",
    "width: 600px\n",
    "name: openai-api-reference\n",
    "---\n",
    "```\n",
    ":::\n",
    "\n",
    "\n",
    ":::{admonition} [OpenAI Cookbook](https://cookbook.openai.com/) \n",
    "```{figure} ./images/openai-cookbook.png\n",
    "---\n",
    "width: 600px\n",
    "name: openai-cookbook\n",
    "---\n",
    "```\n",
    ":::"
   ]
  }
 ],
 "metadata": {
  "kernelspec": {
   "display_name": "llm-env",
   "language": "python",
   "name": "python3"
  },
  "language_info": {
   "codemirror_mode": {
    "name": "ipython",
    "version": 3
   },
   "file_extension": ".py",
   "mimetype": "text/x-python",
   "name": "python",
   "nbconvert_exporter": "python",
   "pygments_lexer": "ipython3",
   "version": "3.11.5"
  }
 },
 "nbformat": 4,
 "nbformat_minor": 2
}