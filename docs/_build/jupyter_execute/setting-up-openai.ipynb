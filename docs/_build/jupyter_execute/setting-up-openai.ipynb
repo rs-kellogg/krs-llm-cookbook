{
 "cells": [
  {
   "cell_type": "markdown",
   "metadata": {},
   "source": [
    "# OpenAI Setup\n",
    "\n",
    ":::{important}\n",
    "[OpenAI](https://platform.openai.com/apps) provides two services: a web-based chat application, and an API with programmatic access\n",
    ":::\n",
    "\n",
    "\n",
    "\n",
    ":::{admonition} Take your pick\n",
    "```{figure} ./images/chat-vs-api.png\n",
    "---\n",
    "width: 600px\n",
    "name: chat-vs-api\n",
    "---\n",
    "[Two services, two billing accounts](https://platform.openai.com/apps)\n",
    "```\n",
    ":::\n"
   ]
  },
  {
   "cell_type": "markdown",
   "metadata": {},
   "source": [
    "## ChatGPT"
   ]
  },
  {
   "cell_type": "markdown",
   "metadata": {},
   "source": [
    ":::{card} **ChatGPT**\n",
    "[ChatGPT](https://chat.openai.com/) offers a fixed-cost way to try out capabilities. If you buy the `Plus` plan, you can use the most up-to-date models and features, and OpenAI not use your data for training. If you use the free option, your data can be used to improve their models.\n",
    ":::\n",
    "\n",
    ":::{admonition} Plan\n",
    "```{figure} ./images/chatgpt-plan.png\n",
    "---\n",
    "width: 600px\n",
    "name: chatgpt-plan\n",
    "---\n",
    "```\n",
    ":::\n",
    "\n",
    ":::{admonition} Capabilities\n",
    "```{figure} ./images/chatgpt-settings.png\n",
    "---\n",
    "width: 600px\n",
    "name: chatgpt-settings\n",
    "---\n",
    ":::"
   ]
  },
  {
   "cell_type": "markdown",
   "metadata": {},
   "source": [
    "## API\n",
    "\n",
    ":::{card} **OpenAI API**\n",
    "The [OpenAI API](https://platform.openai.com/) offers pay as you go service that allows you to write code and automate your interaction with GPT resources. This is the way to go to scale up your jobs to hundreds or thousands of inputs.\n",
    ":::\n",
    "\n",
    ":::{admonition} Platform Offerings\n",
    "```{figure} ./images/openai-platform.png\n",
    "---\n",
    "width: 600px\n",
    "name: openai-platform\n",
    "---\n",
    "```\n",
    ":::"
   ]
  },
  {
   "cell_type": "markdown",
   "metadata": {},
   "source": [
    ":::{admonition} 1. [Create an API key](https://platform.openai.com/api-keys)\n",
    "```{figure} ./images/openai-api-keys.png\n",
    "---\n",
    "width: 600px\n",
    "name: openai-keys\n",
    "---\n",
    "```\n",
    ":::\n",
    "\n",
    "\n",
    ":::{card} Steps\n",
    "\n",
    "- Create API key\n",
    "- Save to disk\n",
    "- <font color='purple'>**Keep it safe!**</font>\n",
    "    * Don't put it in your source code\n",
    "    * Don't add it to a github repository\n",
    "    * Be careful about emailing, sharing via dropbox, one drive, etc.\n",
    "\n",
    "<video width=\"99%\" height=\"600\" controls muted markdown=\"1\">\n",
    "    <source src=\"_images/openai-api-create-api-key.mp4\" type=\"video/mp4\" markdown=\"1\" >\n",
    "</video>\n",
    ":::\n",
    "\n",
    "<!-- ```{figure} ./images/openai-api-create-api-key.mp4\n",
    "Create an API key\n",
    "``` -->"
   ]
  },
  {
   "cell_type": "code",
   "execution_count": 1,
   "metadata": {},
   "outputs": [
    {
     "name": "stdout",
     "output_type": "stream",
     "text": [
      "OPENAI_API_KEY: sk-2...\n"
     ]
    }
   ],
   "source": [
    "import os\n",
    "from dotenv import load_dotenv # pip install python-dotenv\n",
    "\n",
    "# load the .env file containing your API key\n",
    "load_dotenv()\n",
    "\n",
    "# display (obfuscated) API key\n",
    "print(f\"OPENAI_API_KEY: {os.getenv('OPENAI_API_KEY')[:4]}...\")"
   ]
  },
  {
   "cell_type": "code",
   "execution_count": 2,
   "metadata": {},
   "outputs": [
    {
     "name": "stdout",
     "output_type": "stream",
     "text": [
      "ChatCompletion(id='chatcmpl-8KaIVDTnx7KrS3ixglkPLtCy5HarP', choices=[Choice(finish_reason='length', index=0, message=ChatCompletionMessage(content=\"As a lion tamer with extensive knowledge in zoology and large cat psychology, being in the same room as a lion is a profound mix of exhilaration, respect, and careful calculation. Each interaction with a lion, regardless of my expertise, requires a high degree of awareness and understanding of lion behavior.\\n\\nHere are a few aspects of the experience:\\n\\n1. **Respect for Power**: Being in close proximity to such a formidable predator is an immediate reminder of their strength, agility, and potential for danger. Lions are apex predators with powerful jaws, large teeth, and muscular bodies capable of great force.\\n\\n2. **Understanding Behaviors**: My background in large cat psychology allows me to interpret the lion's body language, sounds, and movements. I’m constantly observing signs of agitation, relaxation, curiosity, or playfulness, which dictate how I interact with the animal.\\n\\n3. **Safety Measures**: Although I have a close relationship with the lions under my care, safety is always a priority. This would involve having protocols in place, such as barriers or escape routes, and never becoming complacent, no matter how well I think I understand the individual animal.\\n\\n4. **Bonding and Trust**: Building a relationship with a lion relies on trust and positive reinforcement. Lions, like\", role='assistant', function_call=None, tool_calls=None))], created=1699916779, model='gpt-4-1106-preview', object='chat.completion', system_fingerprint='fp_a24b4d720c', usage=CompletionUsage(completion_tokens=256, prompt_tokens=53, total_tokens=309))\n"
     ]
    }
   ],
   "source": [
    "from openai import OpenAI # pip install openai\n",
    "client = OpenAI()\n",
    "\n",
    "response = client.chat.completions.create(\n",
    "  model=\"gpt-4-1106-preview\",\n",
    "  messages=[\n",
    "    {\n",
    "      \"role\": \"system\",\n",
    "      \"content\": \"You are a lion tamer with a Ph.D. in zoology. You love your job and are an expert in large cat psychology.\"\n",
    "    },\n",
    "    {\n",
    "      \"role\": \"user\",\n",
    "      \"content\": \"What is it like to be in the same room as a lion?\"\n",
    "    }\n",
    "  ],\n",
    "  temperature=1,\n",
    "  max_tokens=256,\n",
    "  top_p=1,\n",
    "  frequency_penalty=0,\n",
    "  presence_penalty=0,\n",
    "  seed=42,\n",
    ")\n",
    "\n",
    "print(response)"
   ]
  },
  {
   "cell_type": "code",
   "execution_count": 3,
   "metadata": {
    "tags": [
     "hide-input"
    ]
   },
   "outputs": [],
   "source": [
    "from myst_nb import glue\n",
    "\n",
    "response_text = response.choices[0].message.content\n",
    "glue(\"response_text\", response_text, display=False)"
   ]
  },
  {
   "cell_type": "markdown",
   "metadata": {},
   "source": [
    "{glue:text}`response_text`\n"
   ]
  },
  {
   "cell_type": "markdown",
   "metadata": {},
   "source": [
    ":::{admonition} [Usage](https://platform.openai.com/usage)\n",
    "```{figure} ./images/openai-api-usage.png\n",
    "---\n",
    "width: 600px\n",
    "name: openai-billing\n",
    "---\n",
    "```\n",
    ":::\n",
    "\n",
    ":::{admonition} [Limits](https://platform.openai.com/account/limits)\n",
    "```{figure} ./images/openai-api-limits.png\n",
    "---\n",
    "width: 600px\n",
    "name: openai-limits\n",
    "---\n",
    "```\n",
    ":::\n",
    "\n",
    "\n",
    ":::{admonition} [Billing](https://platform.openai.com/account/billing/overview)\n",
    "```{figure} ./images/openai-api-billing.png\n",
    "---\n",
    "width: 600px\n",
    "name: openai-billing\n",
    "---\n",
    "```\n",
    ":::"
   ]
  },
  {
   "cell_type": "markdown",
   "metadata": {},
   "source": [
    "## Documentation\n",
    "\n",
    ":::{card} [Documentation](https://platform.openai.com/docs/introduction)\n",
    "OpenAI provides a *lot* of documentation. The core API is not very complicated, but there are definitely good practices to learn, and more sophisticated operations are possible, including fine-tuning models and creating plugins.\n",
    ":::\n",
    "\n",
    ":::{admonition} [OpenAI API Reference](https://platform.openai.com/docs/api-reference) \n",
    "```{figure} ./images/openai-api-reference.png\n",
    "---\n",
    "width: 600px\n",
    "name: openai-api-reference\n",
    "---\n",
    "```\n",
    ":::\n",
    "\n",
    "\n",
    ":::{admonition} [OpenAI Cookbook](https://cookbook.openai.com/) \n",
    "```{figure} ./images/openai-cookbook.png\n",
    "---\n",
    "width: 600px\n",
    "name: openai-cookbook\n",
    "---\n",
    "```\n",
    ":::"
   ]
  }
 ],
 "metadata": {
  "kernelspec": {
   "display_name": "llm-env",
   "language": "python",
   "name": "python3"
  },
  "language_info": {
   "codemirror_mode": {
    "name": "ipython",
    "version": 3
   },
   "file_extension": ".py",
   "mimetype": "text/x-python",
   "name": "python",
   "nbconvert_exporter": "python",
   "pygments_lexer": "ipython3",
   "version": "3.11.5"
  }
 },
 "nbformat": 4,
 "nbformat_minor": 2
}