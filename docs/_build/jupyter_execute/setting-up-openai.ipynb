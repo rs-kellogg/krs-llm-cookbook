{
 "cells": [
  {
   "cell_type": "markdown",
   "metadata": {},
   "source": [
    "# OpenAI Setup\n",
    "\n",
    ":::{important}\n",
    "OpenAI provides two services: a web-based chat application, and an API with programmatic access\n",
    ":::\n",
    "\n",
    "\n",
    "\n",
    ":::{admonition} Take your pick\n",
    "```{figure} ./images/chat-vs-api.png\n",
    "---\n",
    "width: 600px\n",
    "name: chat-vs-api\n",
    "---\n",
    "[Two services, two billing accounts](https://platform.openai.com/apps)\n",
    "```\n",
    ":::\n"
   ]
  },
  {
   "cell_type": "markdown",
   "metadata": {},
   "source": [
    "## ChatGPT"
   ]
  },
  {
   "cell_type": "markdown",
   "metadata": {},
   "source": [
    ":::{card} **ChatGPT**\n",
    "ChatGPT offers a fixed-cost way to try out capabilities. If you buy the \"Plus\" plan, you can use the most up-to-date models and features.\n",
    ":::\n",
    "\n",
    ":::{admonition} Plan\n",
    "```{figure} ./images/chatgpt-plan.png\n",
    "---\n",
    "width: 600px\n",
    "name: chatgpt-plan\n",
    "---\n",
    "```\n",
    ":::\n",
    "\n",
    ":::{admonition} Settings\n",
    "```{figure} ./images/chatgpt-settings.png\n",
    "---\n",
    "width: 600px\n",
    "name: chatgpt-settings\n",
    "---\n",
    ":::"
   ]
  },
  {
   "cell_type": "markdown",
   "metadata": {},
   "source": [
    "## API\n",
    "\n",
    ":::{card} **OpenAI API**\n",
    "The OpenAI API offers pay as you go service that allows you to write code and automate your interaction with GPT resources. This is the way to go to scale up your jobs to hundreds or thousands of inputs.\n",
    ":::\n",
    "\n",
    ":::{admonition} Platform Offerings\n",
    "```{figure} ./images/openai-platform.png\n",
    "---\n",
    "width: 600px\n",
    "name: openai-platform\n",
    "---\n",
    "```\n",
    ":::\n",
    "\n",
    ":::{admonition} Billing\n",
    "```{figure} ./images/openai-api-billing.png\n",
    "---\n",
    "width: 600px\n",
    "name: openai-billing\n",
    "---\n",
    "```\n",
    ":::\n",
    "\n",
    ":::{admonition} API Keys\n",
    "```{figure} ./images/openai-api-keys.png\n",
    "---\n",
    "width: 600px\n",
    "name: openai-keys\n",
    "---\n",
    "```\n",
    ":::"
   ]
  },
  {
   "cell_type": "markdown",
   "metadata": {},
   "source": [
    "## Playground\n",
    "\n",
    ":::{card} OpenAI Playground\n",
    "The [OpenAI Playground](https://platform.openai.com/playground?mode=chat) is an excellent place to develop prompts that are tailored to your application. You can also pre-load one of the existing [example prompts](https://platform.openai.com/examples). Once you're satisfied with the results, you can export the example to code\n",
    ":::\n",
    "\n",
    ":::{admonition} Prompt Engineering\n",
    "```{figure} ./images/openai-playground.png\n",
    "---\n",
    "width: 600px\n",
    "name: openai-playground\n",
    "---\n",
    "```\n",
    ":::\n",
    "\n",
    "\n",
    ":::{admonition} Generate Code\n",
    "```{figure} ./images/playground-save-to-code.png\n",
    "---\n",
    "width: 600px\n",
    "name: playground-save-to-code\n",
    "---\n",
    "```\n",
    ":::"
   ]
  },
  {
   "cell_type": "markdown",
   "metadata": {},
   "source": [
    "## Code Example"
   ]
  },
  {
   "cell_type": "code",
   "execution_count": 1,
   "metadata": {},
   "outputs": [
    {
     "name": "stdout",
     "output_type": "stream",
     "text": [
      "OPENAI_API_KEY: sk-3...\n"
     ]
    }
   ],
   "source": [
    "import os\n",
    "from dotenv import load_dotenv # pip install python-dotenv\n",
    "\n",
    "# load the .env file containing your API key\n",
    "load_dotenv()\n",
    "\n",
    "# print (obfuscated) API key\n",
    "print(f\"OPENAI_API_KEY: {os.getenv('OPENAI_API_KEY')[:4]}...\")"
   ]
  },
  {
   "cell_type": "code",
   "execution_count": 2,
   "metadata": {},
   "outputs": [
    {
     "name": "stdout",
     "output_type": "stream",
     "text": [
      "{\n",
      "  \"id\": \"chatcmpl-8GpL3cz9uttbb5FYiRnrv8RRbHRZV\",\n",
      "  \"object\": \"chat.completion\",\n",
      "  \"created\": 1699021285,\n",
      "  \"model\": \"gpt-3.5-turbo-0613\",\n",
      "  \"choices\": [\n",
      "    {\n",
      "      \"index\": 0,\n",
      "      \"message\": {\n",
      "        \"role\": \"assistant\",\n",
      "        \"content\": \"Being in the same room as a lion is an exhilarating experience. Their immense presence and raw power are truly awe-inspiring. As a lion tamer, I have worked closely with these incredible creatures for a long time, studying their behavior and understanding their psychology. It allows me to have a unique appreciation for their beauty and the respect they command.\\n\\nWhen you are in the presence of a lion, you can feel the intensity in the air. Every movement, every sound they make holds significance. Lions are known for their majestic aura and grace, but they can also exhibit moments of intensity or curiosity. It is crucial to always be aware of their behavior and respond accordingly, ensuring both their safety and your own.\\n\\nEstablishing trust and a strong bond with the lion is crucial for any interaction. Through positive reinforcement techniques and careful observation, I have developed relationships with lions that allow me to work with them closely. This deep connection is based on mutual respect and understanding, making the experience incredibly rewarding.\\n\\nOf course, it's important to remember that lions are wild animals, and they should never be underestimated. They have powerful instincts and can react unexpectedly, which is why comprehensive training and expertise in large cat psychology are essential for lion tamers. It is important to approach them with caution, always\"\n",
      "      },\n",
      "      \"finish_reason\": \"length\"\n",
      "    }\n",
      "  ],\n",
      "  \"usage\": {\n",
      "    \"prompt_tokens\": 53,\n",
      "    \"completion_tokens\": 256,\n",
      "    \"total_tokens\": 309\n",
      "  }\n",
      "}\n"
     ]
    }
   ],
   "source": [
    "import os\n",
    "import openai\n",
    "\n",
    "response = openai.ChatCompletion.create(\n",
    "  model=\"gpt-3.5-turbo\",\n",
    "  messages=[\n",
    "    {\n",
    "      \"role\": \"system\",\n",
    "      \"content\": \"You are a lion tamer with a Ph.D. in zoology. You love your job and are an expert in large cat psychology.\"\n",
    "    },\n",
    "    {\n",
    "      \"role\": \"user\",\n",
    "      \"content\": \"What is it like to be in the same room as a lion?\"\n",
    "    }\n",
    "  ],\n",
    "  temperature=1,\n",
    "  max_tokens=256,\n",
    "  top_p=1,\n",
    "  frequency_penalty=0,\n",
    "  presence_penalty=0\n",
    ")\n",
    "\n",
    "print(response)"
   ]
  },
  {
   "cell_type": "code",
   "execution_count": 3,
   "metadata": {
    "tags": [
     "hide-input"
    ]
   },
   "outputs": [],
   "source": [
    "from myst_nb import glue\n",
    "\n",
    "response_text = response['choices'][0].message.content\n",
    "glue(\"response_text\", response_text, display=False)"
   ]
  },
  {
   "cell_type": "markdown",
   "metadata": {},
   "source": [
    "{glue:text}`response_text`\n"
   ]
  },
  {
   "cell_type": "markdown",
   "metadata": {},
   "source": []
  },
  {
   "cell_type": "markdown",
   "metadata": {},
   "source": [
    "## Documentation\n",
    "\n",
    ":::{card} [Documentation](https://platform.openai.com/docs/introduction)\n",
    "OpenAI provides a *lot* of documentation. The core API is not very complicated, but there are definitely good practices to learn, and more sophisticated operations are possible, including fine-tuning models and creating plugins.\n",
    ":::\n",
    "\n",
    ":::{admonition} [OpenAI API Reference](https://platform.openai.com/docs/api-reference) \n",
    "```{figure} ./images/openai-api-reference.png\n",
    "---\n",
    "width: 600px\n",
    "name: openai-api-reference\n",
    "---\n",
    "```\n",
    ":::\n",
    "\n",
    "\n",
    ":::{admonition} [OpenAI Cookbook](https://cookbook.openai.com/) \n",
    "```{figure} ./images/openai-cookbook.png\n",
    "---\n",
    "width: 600px\n",
    "name: openai-cookbook\n",
    "---\n",
    "```\n",
    ":::"
   ]
  }
 ],
 "metadata": {
  "kernelspec": {
   "display_name": "llm-env",
   "language": "python",
   "name": "python3"
  },
  "language_info": {
   "codemirror_mode": {
    "name": "ipython",
    "version": 3
   },
   "file_extension": ".py",
   "mimetype": "text/x-python",
   "name": "python",
   "nbconvert_exporter": "python",
   "pygments_lexer": "ipython3",
   "version": "3.11.6"
  }
 },
 "nbformat": 4,
 "nbformat_minor": 2
}