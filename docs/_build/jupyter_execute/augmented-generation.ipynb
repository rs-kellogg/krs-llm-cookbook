{
 "cells": [
  {
   "cell_type": "markdown",
   "metadata": {},
   "source": [
    "# Retrieval Augmented Generation\n",
    "\n",
    "Retrieval Augmented Generation (RAG) is a powerful paradigm in natural language processing that combines the strengths of information retrieval and language generation. In the context of the OpenAI API, this approach involves retrieving relevant information from a large dataset and using that information to enhance the generation of human-like text.  It can be used as another method to fine-tune your models. \n",
    "\n",
    "### Definition\n",
    "Retrieval Augmented Generation (RAG) is a method that leverages pre-existing knowledge by retrieving pertinent information from a knowledge base and using it to inform the generation of coherent and contextually relevant text. In the OpenAI API, RAG is exemplified by models that integrate the retrieval of information to augment the output of the language generation process.  The phrase Retrieval Augmented Generation (RAG) comes from a recent paper by Lewis et al. from Facebook AI. The idea is to use a pre-trained language model (LM) to generate text, but to use a separate retrieval system to find relevant documents to condition the LM on.\n",
    "\n",
    "### How it Works\n",
    "\n",
    "1.) Retrieval Process:\n",
    "\n",
    "The model retrieves information from a designated knowledge base or dataset based on the input prompt.\n",
    "The retrieved information serves as context for the subsequent language generation.\n",
    "\n",
    "2.) Generation Process:\n",
    "\n",
    "The model generates text, incorporating the retrieved information to produce more informed and context-aware responses.\n",
    "This blending of retrieval and generation enhances the richness and relevance of the generated content.\n",
    "\n",
    "### Sample Uses Cases\n",
    "\n",
    "-- Question Answering Systems: RAG can be employed to build question answering systems that retrieve information from vast knowledge bases to generate accurate and contextually appropriate answers.\n",
    "\n",
    "-- Content Creation: In content creation applications, RAG can enhance the generation of creative and informative text by pulling in relevant details from a wide range of sources.\n",
    "\n",
    "-- Conversational Agents: Chatbots and conversational agents benefit from RAG by incorporating external knowledge into their responses, making interactions more natural and contextually aware.\n",
    "\n",
    "-- Educational Tools: RAG models can be used to develop educational tools that provide detailed and contextually relevant explanations by pulling information from educational databases.\n",
    "\n",
    "-- Code Generation: In software development, RAG can assist in generating code snippets by retrieving information from programming knowledge bases, ensuring the produced code is accurate and contextually fitting.\n",
    "\n",
    "### Improve Coding Request\n",
    "\n",
    "Let's ask GPT a question about the latest selenium python library, while feeding it the library."
   ]
  },
  {
   "cell_type": "code",
   "execution_count": 1,
   "metadata": {
    "vscode": {
     "languageId": "plaintext"
    }
   },
   "outputs": [
    {
     "ename": "AttributeError",
     "evalue": "module 'openai' has no attribute 'Completion'",
     "output_type": "error",
     "traceback": [
      "\u001b[0;31m---------------------------------------------------------------------------\u001b[0m",
      "\u001b[0;31mAttributeError\u001b[0m                            Traceback (most recent call last)",
      "Cell \u001b[0;32mIn[1], line 43\u001b[0m\n\u001b[1;32m     40\u001b[0m prompt \u001b[38;5;241m=\u001b[39m \u001b[38;5;124mf\u001b[39m\u001b[38;5;124m\"\u001b[39m\u001b[38;5;124mProvide information about the most recent version of \u001b[39m\u001b[38;5;132;01m{\u001b[39;00mpackage_name\u001b[38;5;132;01m}\u001b[39;00m\u001b[38;5;124m for Python:\u001b[39m\u001b[38;5;124m\"\u001b[39m\n\u001b[1;32m     42\u001b[0m \u001b[38;5;66;03m# Generate response using Retrieval Augmented Generation\u001b[39;00m\n\u001b[0;32m---> 43\u001b[0m response \u001b[38;5;241m=\u001b[39m \u001b[43mopenai\u001b[49m\u001b[38;5;241;43m.\u001b[39;49m\u001b[43mCompletion\u001b[49m\u001b[38;5;241m.\u001b[39mcreate(\n\u001b[1;32m     44\u001b[0m     engine\u001b[38;5;241m=\u001b[39m\u001b[38;5;124m\"\u001b[39m\u001b[38;5;124mtext-davinci-002\u001b[39m\u001b[38;5;124m\"\u001b[39m,  \u001b[38;5;66;03m# Choose the appropriate engine\u001b[39;00m\n\u001b[1;32m     45\u001b[0m     prompt\u001b[38;5;241m=\u001b[39mprompt,\n\u001b[1;32m     46\u001b[0m     documents\u001b[38;5;241m=\u001b[39m[document],\n\u001b[1;32m     47\u001b[0m     max_tokens\u001b[38;5;241m=\u001b[39m\u001b[38;5;241m200\u001b[39m,  \u001b[38;5;66;03m# Adjust as needed\u001b[39;00m\n\u001b[1;32m     48\u001b[0m     temperature\u001b[38;5;241m=\u001b[39m\u001b[38;5;241m0.7\u001b[39m,  \u001b[38;5;66;03m# Adjust as needed\u001b[39;00m\n\u001b[1;32m     49\u001b[0m )\n\u001b[1;32m     51\u001b[0m \u001b[38;5;66;03m# Display the generated text\u001b[39;00m\n\u001b[1;32m     52\u001b[0m generated_text \u001b[38;5;241m=\u001b[39m response[\u001b[38;5;124m\"\u001b[39m\u001b[38;5;124mchoices\u001b[39m\u001b[38;5;124m\"\u001b[39m][\u001b[38;5;241m0\u001b[39m][\u001b[38;5;124m\"\u001b[39m\u001b[38;5;124mtext\u001b[39m\u001b[38;5;124m\"\u001b[39m]\n",
      "\u001b[0;31mAttributeError\u001b[0m: module 'openai' has no attribute 'Completion'"
     ]
    }
   ],
   "source": [
    "import openai\n",
    "import requests\n",
    "from bs4 import BeautifulSoup\n",
    "\n",
    "# Set your OpenAI API key\n",
    "openai.api_key = \"<YOUR_API_KEY>\"\n",
    "\n",
    "# Function to scrape information about the latest version of a Python package\n",
    "def scrape_latest_package_version(package_name):\n",
    "    try:\n",
    "        # Send a GET request to the PyPI website\n",
    "        response = requests.get(f\"https://pypi.org/project/{package_name}/\")\n",
    "        response.raise_for_status()\n",
    "\n",
    "        # Parse the HTML content using BeautifulSoup\n",
    "        soup = BeautifulSoup(response.text, 'html.parser')\n",
    "\n",
    "        # Extract relevant information (modify this based on your needs)\n",
    "        version_tag = soup.find(\"span\", class_=\"package-header__version\")\n",
    "        latest_version = version_tag.text.strip() if version_tag else \"N/A\"\n",
    "\n",
    "        # Additional details can be extracted as needed\n",
    "\n",
    "        return latest_version\n",
    "    except Exception as e:\n",
    "        print(f\"Error scraping package information: {e}\")\n",
    "        return None\n",
    "\n",
    "# Specify the Python package (in this case, Selenium)\n",
    "package_name = \"selenium\"\n",
    "\n",
    "# Scrape information about the latest version of the package\n",
    "latest_version = scrape_latest_package_version(package_name)\n",
    "\n",
    "if latest_version:\n",
    "    # Specify the document for retrieval\n",
    "    document = {\"id\": \"selenium_doc\", \"text\": f\"The latest version of {package_name} is {latest_version}.\"}\n",
    "\n",
    "    # Define a prompt for Retrieval Augmented Generation\n",
    "    prompt = f\"Provide information about the most recent version of {package_name} for Python:\"\n",
    "\n",
    "    # Generate response using Retrieval Augmented Generation\n",
    "    response = openai.Completion.create(\n",
    "        engine=\"text-davinci-002\",  # Choose the appropriate engine\n",
    "        prompt=prompt,\n",
    "        documents=[document],\n",
    "        max_tokens=200,  # Adjust as needed\n",
    "        temperature=0.7,  # Adjust as needed\n",
    "    )\n",
    "\n",
    "    # Display the generated text\n",
    "    generated_text = response[\"choices\"][0][\"text\"]\n",
    "    print(\"Generated Text:\")\n",
    "    print(generated_text)\n",
    "else:\n",
    "    print(f\"Unable to retrieve information about {package_name}.\")\n"
   ]
  }
 ],
 "metadata": {
  "language_info": {
   "codemirror_mode": {
    "name": "ipython",
    "version": 3
   },
   "file_extension": ".py",
   "mimetype": "text/x-python",
   "name": "python",
   "nbconvert_exporter": "python",
   "pygments_lexer": "ipython3",
   "version": "3.11.5"
  }
 },
 "nbformat": 4,
 "nbformat_minor": 2
}