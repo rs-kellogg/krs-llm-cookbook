{
 "cells": [
  {
   "attachments": {},
   "cell_type": "markdown",
   "id": "95f0a171",
   "metadata": {},
   "source": [
    "# Takeaways"
   ]
  },
  {
   "cell_type": "markdown",
   "id": "75b675a0",
   "metadata": {},
   "source": [
    ":::{admonition} 1. Setting up OpenAI\n",
    "\n",
    ":::"
   ]
  },
  {
   "cell_type": "markdown",
   "id": "45892acd",
   "metadata": {},
   "source": [
    ":::{admonition} 2. Use Cases\n",
    "- Validation\n",
    "- Prompt engineering\n",
    "- Testing\n",
    "- Source control\n",
    "```\n",
    ":::"
   ]
  },
  {
   "cell_type": "markdown",
   "id": "34ac73be",
   "metadata": {},
   "source": [
    ":::{admonition} 3. Future\n",
    "- Living document\n",
    "- We are here to help! [RS inbox](mailto:rs@kellogg.northwestern.edu)\n",
    "- Expanding to other LLMs moving forward\n",
    ":::"
   ]
  }
 ],
 "metadata": {
  "interpreter": {
   "hash": "9d7534ecd9fbc7d385378f8400cf4d6cb9c6175408a574f1c99c5269f08771cc"
  },
  "jupytext": {
   "cell_metadata_filter": "-all",
   "encoding": "# -*- coding: utf-8 -*-",
   "formats": "md:myst",
   "main_language": "python"
  },
  "kernelspec": {
   "display_name": "Python 3 (ipykernel)",
   "language": "python",
   "name": "python3"
  },
  "language_info": {
   "codemirror_mode": {
    "name": "ipython",
    "version": 3
   },
   "file_extension": ".py",
   "mimetype": "text/x-python",
   "name": "python",
   "nbconvert_exporter": "python",
   "pygments_lexer": "ipython3",
   "version": "3.11.5"
  },
  "toc-showtags": true
 },
 "nbformat": 4,
 "nbformat_minor": 5
}