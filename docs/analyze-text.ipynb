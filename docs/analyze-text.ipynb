{
 "cells": [
  {
   "cell_type": "markdown",
   "metadata": {},
   "source": [
    "# Text Analysis"
   ]
  },
  {
   "cell_type": "markdown",
   "metadata": {},
   "source": [
    " :::{admonition} Development Process\n",
    " :class: important\n",
    "- Come up with an idea 😀\n",
    "- Identify a dataset and specify precisely what you want to extract\n",
    "- Engineer a prompt (use OpenAI Playground)\n",
    "- Evaluate performance on a sample\n",
    "    * If performance is unacceptable, try further prompt engineering, functions, etc.\n",
    "    * If performance is still not good enough, try fine-tuning\n",
    "- Deploy\n",
    ":::\n",
    "\n",
    "```{figure} ./images/gpt-dev-cycle.png\n",
    "---\n",
    "width: 600px\n",
    "name: gpt-dev-cycle\n",
    "---\n",
    "```"
   ]
  },
  {
   "cell_type": "markdown",
   "metadata": {},
   "source": [
    ":::{admonition} An Idea\n",
    ":class: tip\n",
    "Identify clusters of people who are collaborating on Large Language Model research.\n",
    ":::"
   ]
  },
  {
   "cell_type": "code",
   "execution_count": 1,
   "metadata": {
    "tags": [
     "hide-input"
    ]
   },
   "outputs": [
    {
     "data": {
      "application/vnd.jupyter.widget-view+json": {
       "model_id": "39c4a7ca6071465ab5b8176860fe34e4",
       "version_major": 2,
       "version_minor": 0
      },
      "text/plain": [
       "Map(center=[20, 0], controls=(ZoomControl(options=['position', 'zoom_in_text', 'zoom_in_title', 'zoom_out_text…"
      ]
     },
     "execution_count": 1,
     "metadata": {},
     "output_type": "execute_result"
    }
   ],
   "source": [
    "import leafmap\n",
    "map = leafmap.Map()\n",
    "# Need data! : map.add_xy_data(df, x=\"longitude\", y=\"latitude\", layer_name=\"World Cities\")\n",
    "map"
   ]
  },
  {
   "cell_type": "markdown",
   "metadata": {},
   "source": [
    ":::{admonition} Gather Data\n",
    ":class: tip\n",
    "Promising dataset: [arXiv](https://arxiv.org/)\n",
    "PDF files available, as well as [metadata](https://www.kaggle.com/datasets/Cornell-University/arxiv/)\n",
    ":::"
   ]
  },
  {
   "cell_type": "markdown",
   "metadata": {},
   "source": [
    ":::{admonition} Specify what information to extract\n",
    ":class: tip\n",
    "- title\n",
    "- list of author names\n",
    "- each author's email address\n",
    "- each author's affiliation\n",
    "- each affiliation's location in terms of latitude and longitude\n",
    ":::\n",
    "\n",
    ":::{card}\n",
    "```{figure} ./images/arxiv-paper-header.png\n",
    "---\n",
    "width: 600px\n",
    "name: arxiv-paper-header\n",
    "---\n",
    "```\n",
    ":::\n",
    "\n",
    ":::{card}\n",
    "```json\n",
    "{ \"title\": \"The paper's title\",\n",
    "    \"authors\": [\n",
    "        {\n",
    "            \"name\": \"author's name\",\n",
    "            \"email\": \"name@domain.edu\",\n",
    "            \"affiliations\": [ \"list of indices\" ]\n",
    "        }\n",
    "    ],\n",
    "    \"affiliations\": [ \n",
    "        {\"index\": \"the index\", \n",
    "        \"name\": \"The affiliation name\", \n",
    "        \"longitude\": \"the longitude\", \n",
    "        \"latitude\": \"the latitude\" \n",
    "        } \n",
    "    ]\n",
    " ]\n",
    "}\n",
    "```\n",
    ":::"
   ]
  },
  {
   "cell_type": "markdown",
   "metadata": {},
   "source": [
    ":::{admonition} Develop a Prompt\n",
    "[OpenAI playground](https://platform.openai.com/playground)\n",
    ":::\n",
    "\n",
    ":::{card} Prompt engineering\n",
    "There are various prompting strategies you can use to improve performance. [OpenAI]([Prompt Engineering](https://platform.openai.com/docs/guides/prompt-engineering/strategy-write-clear-instructions) has a very good guide to help you out. They also provide lots of examples to look at.\n",
    ":::"
   ]
  },
  {
   "cell_type": "code",
   "execution_count": 2,
   "metadata": {
    "tags": [
     "hide-input"
    ]
   },
   "outputs": [],
   "source": [
    "import os\n",
    "import openai\n",
    "from dotenv import load_dotenv\n",
    "\n",
    "# load the .env file containing your API key\n",
    "load_dotenv()\n",
    "openai.api_key = os.getenv(\"OPENAI_API_KEY\")"
   ]
  },
  {
   "cell_type": "code",
   "execution_count": 3,
   "metadata": {},
   "outputs": [],
   "source": [
    "# This code is for v1 of the openai package: pypi.org/project/openai\n",
    "from openai import OpenAI\n",
    "client = OpenAI()\n",
    "\n",
    "response = client.chat.completions.create(\n",
    "  model=\"gpt-4-1106-preview\",\n",
    "  messages=[\n",
    "    {\n",
    "      \"role\": \"system\",\n",
    "      \"content\": \"You are an expert research librarian. You are precise and can analyze the structure of papers very well. You return information in json format.\"\n",
    "    },\n",
    "    {\n",
    "      \"role\": \"user\",\n",
    "      \"content\": \"Extract the title and authors and affiliations from the first page of a scientific paper. \\n\\nUse the following step-by-step instructions to respond to user inputs.\\n\\nExtract the title and authors from the first page of a scientific paper. The paper text will snipped will be delimited by triple quotes. Geolocate each author affiliation with latitude and longitude.\\n\\nThe output should have the following format:\\n\\n{ \\\"title\\\": \\\"The paper's title\\\",\\n  \\\"authors\\\": [\\n    {\\n      \\\"name\\\": \\\"Yong Ren\\\",\\n      \\\"email\\\": null,\\n      \\\"affiliations\\\": [ \\\"list of indices\\\" ]\\n    }\\n  ],\\n \\\"affiliations\\\": [ {\\\"index\\\": \\\"the index\\\", \\\"name\\\": \\\"The affiliation name\\\", \\\"longitude\\\": \\\"the longitude\\\", \\\"latitude\\\": \\\"the latitude\\\" } ]\\n ]\\n}\\n\\n\\\"\\\"\\\"\\nFEWER-TOKEN NEURAL SPEECH CODEC WITH TIME-INVARIANT CODES\\nYong Ren1,2, Tao Wang1, Jiangyan Yi1, Le Xu1,2, Jianhua Tao3, Chuyuan Zhang1,2, Junzuo Zhou1,2\\n1Institute of Automation, Chinese Academy of Sciences, China\\n2University of Chinese Academy of Sciences, China\\n3Department of Automation, Tsinghua University, China\\nABSTRACT\\nLanguage model based text-to-speech (TTS) models, like VALL-E,\\nhave gained attention for their outstanding in-context learning capa-\\nbility in zero-shot scenarios. Neural speech codec is a critical com-\\nponent of these models, which can convert speech into discrete token\\nrepresentations. However, excessive token sequences from the codec\\nmay negatively affect prediction accuracy and restrict the progres-\\nsion of Language model based TTS models. To address this issue,\\nthis paper proposes a novel neural speech codec with time-invariant\\ncodes named TiCodec. By encoding and quantizing time-invariant\\ninformation into a separate code, TiCodec can reduce the amount of\\nframe-level information that needs encoding, effectively decreasing\\nthe number of tokens as codes of speech. Furthermore, this paper\\nintroduces a time-invariant encoding consistency loss to enhance the\\nconsistency of time-invariant code within an utterance and force it\\nto capture more global information, which can benefit the zero-shot\\nTTS task. Experimental results demonstrate that TiCodec can not\\nonly enhance the quality of reconstruction speech with fewer tokens\\nbut also increase the similarity and naturalness, as well as reduce the\\nword error rate of the synthesized speech by the TTS model.\\nIndex Terms— speech codec, fewer tokens, time-invariant, lan-\\nguage model, text-to-speech\\n\\\"\\\"\\\"\\n \"\n",
    "    }\n",
    "  ],\n",
    "  response_format={\"type\": \"json_object\"},\n",
    "  temperature=0,\n",
    "  max_tokens=2048,\n",
    "  top_p=1,\n",
    "  frequency_penalty=0,\n",
    "  presence_penalty=0,\n",
    "  seed=42,\n",
    ")"
   ]
  },
  {
   "cell_type": "code",
   "execution_count": 4,
   "metadata": {
    "tags": [
     "hide-input"
    ]
   },
   "outputs": [
    {
     "name": "stdout",
     "output_type": "stream",
     "text": [
      "{\n",
      "    \"title\": \"FEWER-TOKEN NEURAL SPEECH CODEC WITH TIME-INVARIANT CODES\",\n",
      "    \"authors\": [\n",
      "        {\n",
      "            \"name\": \"Yong Ren\",\n",
      "            \"email\": null,\n",
      "            \"affiliations\": [\n",
      "                1,\n",
      "                2\n",
      "            ]\n",
      "        },\n",
      "        {\n",
      "            \"name\": \"Tao Wang\",\n",
      "            \"email\": null,\n",
      "            \"affiliations\": [\n",
      "                1\n",
      "            ]\n",
      "        },\n",
      "        {\n",
      "            \"name\": \"Jiangyan Yi\",\n",
      "            \"email\": null,\n",
      "            \"affiliations\": [\n",
      "                1\n",
      "            ]\n",
      "        },\n",
      "        {\n",
      "            \"name\": \"Le Xu\",\n",
      "            \"email\": null,\n",
      "            \"affiliations\": [\n",
      "                1,\n",
      "                2\n",
      "            ]\n",
      "        },\n",
      "        {\n",
      "            \"name\": \"Jianhua Tao\",\n",
      "            \"email\": null,\n",
      "            \"affiliations\": [\n",
      "                3\n",
      "            ]\n",
      "        },\n",
      "        {\n",
      "            \"name\": \"Chuyuan Zhang\",\n",
      "            \"email\": null,\n",
      "            \"affiliations\": [\n",
      "                1,\n",
      "                2\n",
      "            ]\n",
      "        },\n",
      "        {\n",
      "            \"name\": \"Junzuo Zhou\",\n",
      "            \"email\": null,\n",
      "            \"affiliations\": [\n",
      "                1,\n",
      "                2\n",
      "            ]\n",
      "        }\n",
      "    ],\n",
      "    \"affiliations\": [\n",
      "        {\n",
      "            \"index\": 1,\n",
      "            \"name\": \"Institute of Automation, Chinese Academy of Sciences, China\",\n",
      "            \"longitude\": \"116.3975\",\n",
      "            \"latitude\": \"39.9085\"\n",
      "        },\n",
      "        {\n",
      "            \"index\": 2,\n",
      "            \"name\": \"University of Chinese Academy of Sciences, China\",\n",
      "            \"longitude\": \"116.6514\",\n",
      "            \"latitude\": \"40.1211\"\n",
      "        },\n",
      "        {\n",
      "            \"index\": 3,\n",
      "            \"name\": \"Department of Automation, Tsinghua University, China\",\n",
      "            \"longitude\": \"116.326\",\n",
      "            \"latitude\": \"40.0036\"\n",
      "        }\n",
      "    ]\n",
      "}\n"
     ]
    }
   ],
   "source": [
    "import json\n",
    "\n",
    "data = json.loads(response.choices[0].message.content)\n",
    "print(json.dumps(data, indent=4))"
   ]
  },
  {
   "cell_type": "markdown",
   "metadata": {},
   "source": [
    ":::{admonition} Evaluate on a sample\n",
    ":class: tip\n",
    "To evaluate the perfomance of the GPT on your dataset, you need some way of externally validating it. At least a portion of your data must be labelled with the correct (or at least likely correct) output. This is called a `gold standard`.\n",
    ":::"
   ]
  },
  {
   "cell_type": "code",
   "execution_count": 6,
   "metadata": {
    "tags": [
     "hide-input"
    ]
   },
   "outputs": [],
   "source": [
    "user_prompt_instructions = \"\"\"\n",
    "Extract the title and authors and affiliations from the first page of a scientific paper. \n",
    "\n",
    "Use the following step-by-step instructions to respond to user inputs.\n",
    "\n",
    "Extract the title and authors from the first page of a scientific paper. The paper text will snipped will be delimited by triple quotes. Geolocate each author affiliation with latitude and longitude.\n",
    "\n",
    "The output should have the following format:\n",
    "\n",
    "{ \"title\": \"The paper's title\",\n",
    "  \"authors\": [\n",
    "    {\n",
    "      \"name\": \"Yong Ren\",\n",
    "      \"email\": null,\n",
    "      \"affiliations\": [ \"list of indices\" ]\n",
    "    }\n",
    "  ],\n",
    " \"affiliations\": [ {\"index\": \"the index\", \"name\": \"The affiliation name\", \"longitude\": \"the longitude\", \"latitude\": \"the latitude\" } ]\n",
    " ]\n",
    "}\n",
    "\n",
    "\"\"\""
   ]
  },
  {
   "cell_type": "code",
   "execution_count": 3,
   "metadata": {
    "tags": [
     "hide-input"
    ]
   },
   "outputs": [],
   "source": [
    "from typing import Dict\n",
    "import openai\n",
    "\n",
    "def validate_response_data(data: Dict):\n",
    "    assert \"title\" in data, \"title not found\"\n",
    "    assert \"authors\" in data, \"title not found\"\n",
    "    for auth in data['authors']:\n",
    "        assert \"name\" in auth, \"name not found\"\n",
    "        assert \"email\" in auth, \"email not found\"\n",
    "        assert \"affiliations\" in auth, \"affiliations not found\"\n",
    "    assert \"affiliations\" in data, \"affiliations not found\"\n",
    "    for aff in data['affiliations']:\n",
    "        assert \"index\" in aff, \"index not found\"\n",
    "        assert \"name\" in aff, \"name not found\"\n",
    "        assert \"longitude\" in aff, \"longitude not found\"\n",
    "        assert \"latitude\" in aff, \"latitude not found\"\n",
    "\n",
    "def analyze_text(client: openai.Client, text: str) -> str:\n",
    "    response = client.chat.completions.create(\n",
    "        model=\"gpt-4-1106-preview\",\n",
    "        messages=[\n",
    "            {\n",
    "                \"role\": \"system\",\n",
    "                \"content\": \"You are an expert research librarian. You are precise and can analyze the structure of papers very well. You return information in json format.\"\n",
    "            },\n",
    "            {\n",
    "                \"role\": \"user\",\n",
    "                \"content\": user_prompt_instructions + '\\n\\n\"\"\"' + text + '\\n\\n\"\"\"'\n",
    "            }\n",
    "        ],\n",
    "        response_format={\"type\": \"json_object\"},\n",
    "        temperature=0,\n",
    "        max_tokens=2048,\n",
    "        top_p=1,\n",
    "        frequency_penalty=0,\n",
    "        presence_penalty=0,\n",
    "        seed=42,\n",
    "    )\n",
    "    try:\n",
    "        data = json.loads(response.choices[0].message.content)\n",
    "        print(data)\n",
    "        validate_response_data(data)\n",
    "        return json.dumps(data)\n",
    "    except Exception as e:\n",
    "        print(e)\n",
    "        return str(e)"
   ]
  },
  {
   "cell_type": "markdown",
   "metadata": {},
   "source": [
    "```python\n",
    "client = openai.Client()\n",
    "df_sample = df.sample(100, random_state=42)\n",
    "df_sample['extracted_info'] = df_sample['text'].apply(lambda x: analyze_text(client, x))\n",
    "df_sample.to_parquet(\"sample_output.parquet\")\n",
    "```"
   ]
  },
  {
   "cell_type": "code",
   "execution_count": 4,
   "metadata": {},
   "outputs": [
    {
     "name": "stdout",
     "output_type": "stream",
     "text": [
      "true_positives count: 3884\n",
      "false_positives count: 364\n",
      "false_negatives count: 316\n",
      "precision: 0.91\n",
      "recall: 0.92\n"
     ]
    }
   ],
   "source": [
    "import pandas as pd\n",
    "\n",
    "df_gold = pd.read_parquet('./data/arxiv_metadata.parquet')\n",
    "df_extracted = pd.read_parquet('./data/extracted_data.parquet')\n",
    "\n",
    "true_positives = []\n",
    "false_positives = []\n",
    "false_negatives = []\n",
    "\n",
    "for id in df_extracted['id']:\n",
    "    gold_authors = list(df_gold[df_gold['id'] == id]['authors'])[0]\n",
    "    gold_authors = {a.strip() for a in gold_authors.split(',')}\n",
    "\n",
    "    predicted = df_extracted[df_extracted['id'] == id]\n",
    "    predicted_authors = set(predicted['author'])\n",
    "    \n",
    "    for author in predicted_authors:\n",
    "        if author in gold_authors:\n",
    "            true_positives.append((id, author))\n",
    "        else:\n",
    "            false_positives.append((id, author))\n",
    "    \n",
    "    for author in gold_authors:\n",
    "        if author not in predicted_authors:\n",
    "            false_negatives.append((id, author))\n",
    "\n",
    "\n",
    "# round precision to 2 decimal places\n",
    "precision = round(len(true_positives) / (len(true_positives) + len(false_positives)), 2)\n",
    "\n",
    "# round recall to 2 decimal places\n",
    "recall = round(len(true_positives) / (len(true_positives) + len(false_negatives)), 2)\n",
    "\n",
    "print(f\"true_positives count: {len(true_positives)}\")\n",
    "print(f\"false_positives count: {len(false_positives)}\")\n",
    "print(f\"false_negatives count: {len(false_negatives)}\")\n",
    "print(\"precision:\", precision)\n",
    "print(\"recall:\", recall)"
   ]
  },
  {
   "cell_type": "markdown",
   "metadata": {},
   "source": [
    ":::{admonition} Deploy\n",
    ":class: tip\n",
    "Deployment of this code to the full dataset requires further pre-cautions:\n",
    "\n",
    "- Handle possible [errors](https://platform.openai.com/docs/guides/error-codes)\n",
    "- Respect [rate limits](https://platform.openai.com/docs/guides/rate-limits/rate-limits?context=tier-free)\n",
    "- Write incremental results to disk and generate a log\n",
    "- Ensure input arguments are correct\n",
    "\n",
    "\n",
    "```python\n",
    "@app.command()\n",
    "def complete_prompt(\n",
    "    data_file_path: Path = typer.Argument(..., help=\"Data file path name\"),\n",
    "    config_file_path: Path = typer.Argument(..., help=\"Config file path name\"),\n",
    "    outdir: Path = typer.Option(Path(\".\"), help=\"Output directory\"),\n",
    "):\n",
    "    \"\"\"\n",
    "    Complete a prompt in a data file and write output to a csv file.\n",
    "    \"\"\"\n",
    "```\n",
    ":::"
   ]
  },
  {
   "cell_type": "markdown",
   "metadata": {},
   "source": [
    ":::{admonition} Payoff!\n",
    ":class: important\n",
    ":::"
   ]
  },
  {
   "cell_type": "code",
   "execution_count": 5,
   "metadata": {},
   "outputs": [
    {
     "data": {
      "application/vnd.jupyter.widget-view+json": {
       "model_id": "af16af07932b4fc88283c9bb63c10ddf",
       "version_major": 2,
       "version_minor": 0
      },
      "text/plain": [
       "Map(center=[20, 0], controls=(ZoomControl(options=['position', 'zoom_in_text', 'zoom_in_title', 'zoom_out_text…"
      ]
     },
     "execution_count": 5,
     "metadata": {},
     "output_type": "execute_result"
    }
   ],
   "source": [
    "map = leafmap.Map()\n",
    "map.add_xy_data(df_extracted, x=\"longitude\", y=\"latitude\", layer_name=\"World Cities\")\n",
    "map"
   ]
  },
  {
   "cell_type": "code",
   "execution_count": 6,
   "metadata": {
    "tags": [
     "hide-input"
    ]
   },
   "outputs": [
    {
     "data": {
      "application/vnd.jupyter.widget-view+json": {
       "model_id": "a53b869e1ee94507b5971ea21e6db10f",
       "version_major": 2,
       "version_minor": 0
      },
      "text/plain": [
       "Map(center=[42.0451, -87.6877], close_popup_on_click=False, controls=(ZoomControl(options=['position', 'zoom_i…"
      ]
     },
     "execution_count": 6,
     "metadata": {},
     "output_type": "execute_result"
    }
   ],
   "source": [
    "from ipywidgets import HTML\n",
    "from ipyleaflet import Map, Marker, Popup\n",
    "\n",
    "center = (42.0451, -87.6877)\n",
    "map2 = Map(center=center, zoom=2, close_popup_on_click=False)\n",
    "\n",
    "\n",
    "for row in list(df_extracted.iterrows())[:100]:\n",
    "    marker = Marker(location=(row[1]['latitude'], row[1]['longitude']))\n",
    "    message = HTML()\n",
    "    message.value = f\"{row[1]['author']} <b>{row[1]['affiliation']}</b>\"\n",
    "    message.placeholder = \"Author\"\n",
    "    message.description = \"Author\"\n",
    "    marker.popup = message\n",
    "    map2.add_layer(marker)\n",
    "\n",
    "map2"
   ]
  }
 ],
 "metadata": {
  "kernelspec": {
   "display_name": "llm-env",
   "language": "python",
   "name": "python3"
  },
  "language_info": {
   "codemirror_mode": {
    "name": "ipython",
    "version": 3
   },
   "file_extension": ".py",
   "mimetype": "text/x-python",
   "name": "python",
   "nbconvert_exporter": "python",
   "pygments_lexer": "ipython3",
   "version": "3.11.5"
  }
 },
 "nbformat": 4,
 "nbformat_minor": 2
}
