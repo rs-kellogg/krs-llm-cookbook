{
 "cells": [
  {
   "cell_type": "markdown",
   "metadata": {},
   "source": [
    "# Analyze Text"
   ]
  },
  {
   "cell_type": "markdown",
   "metadata": {},
   "source": [
    " :::{admonition} Process\n",
    "- Get data and specify precisely what you want to extract\n",
    "- Develop prompt (use OpenAI Playground)\n",
    "- Develop (tested) code to extract information\n",
    "- Run on (sample) corpus\n",
    "- Evaluate performance\n",
    "    * If performance is unacceptable, try further prompt engineering, functions, etc.\n",
    "    * If performance is still not good enough, try fine-tuning\n",
    ":::"
   ]
  },
  {
   "cell_type": "code",
   "execution_count": 1,
   "metadata": {},
   "outputs": [],
   "source": [
    "import os\n",
    "import openai\n",
    "from dotenv import load_dotenv\n",
    "\n",
    "# load the .env file containing your API key\n",
    "load_dotenv()\n",
    "openai.api_key = os.getenv(\"OPENAI_API_KEY\")"
   ]
  },
  {
   "cell_type": "code",
   "execution_count": 2,
   "metadata": {},
   "outputs": [
    {
     "ename": "AttributeError",
     "evalue": "module 'openai' has no attribute 'ChatCompletion'",
     "output_type": "error",
     "traceback": [
      "\u001b[0;31m---------------------------------------------------------------------------\u001b[0m",
      "\u001b[0;31mAttributeError\u001b[0m                            Traceback (most recent call last)",
      "\u001b[1;32m/Users/williamthompson/Code/kellogg/krs-llm-cookbook/docs/analyze-text.ipynb Cell 4\u001b[0m line \u001b[0;36m7\n\u001b[1;32m     <a href='vscode-notebook-cell:/Users/williamthompson/Code/kellogg/krs-llm-cookbook/docs/analyze-text.ipynb#W2sZmlsZQ%3D%3D?line=70'>71</a>\u001b[0m         second_response \u001b[39m=\u001b[39m openai\u001b[39m.\u001b[39mChatCompletion\u001b[39m.\u001b[39mcreate(\n\u001b[1;32m     <a href='vscode-notebook-cell:/Users/williamthompson/Code/kellogg/krs-llm-cookbook/docs/analyze-text.ipynb#W2sZmlsZQ%3D%3D?line=71'>72</a>\u001b[0m             model\u001b[39m=\u001b[39m\u001b[39m\"\u001b[39m\u001b[39mgpt-3.5-turbo-1106\u001b[39m\u001b[39m\"\u001b[39m,\n\u001b[1;32m     <a href='vscode-notebook-cell:/Users/williamthompson/Code/kellogg/krs-llm-cookbook/docs/analyze-text.ipynb#W2sZmlsZQ%3D%3D?line=72'>73</a>\u001b[0m             messages\u001b[39m=\u001b[39mmessages,\n\u001b[1;32m     <a href='vscode-notebook-cell:/Users/williamthompson/Code/kellogg/krs-llm-cookbook/docs/analyze-text.ipynb#W2sZmlsZQ%3D%3D?line=73'>74</a>\u001b[0m         )  \u001b[39m# get a new response from the model where it can see the function response\u001b[39;00m\n\u001b[1;32m     <a href='vscode-notebook-cell:/Users/williamthompson/Code/kellogg/krs-llm-cookbook/docs/analyze-text.ipynb#W2sZmlsZQ%3D%3D?line=74'>75</a>\u001b[0m         \u001b[39mreturn\u001b[39;00m second_response\n\u001b[0;32m---> <a href='vscode-notebook-cell:/Users/williamthompson/Code/kellogg/krs-llm-cookbook/docs/analyze-text.ipynb#W2sZmlsZQ%3D%3D?line=75'>76</a>\u001b[0m \u001b[39mprint\u001b[39m(run_conversation())\n",
      "\u001b[1;32m/Users/williamthompson/Code/kellogg/krs-llm-cookbook/docs/analyze-text.ipynb Cell 4\u001b[0m line \u001b[0;36m3\n\u001b[1;32m     <a href='vscode-notebook-cell:/Users/williamthompson/Code/kellogg/krs-llm-cookbook/docs/analyze-text.ipynb#W2sZmlsZQ%3D%3D?line=16'>17</a>\u001b[0m messages \u001b[39m=\u001b[39m [{\u001b[39m\"\u001b[39m\u001b[39mrole\u001b[39m\u001b[39m\"\u001b[39m: \u001b[39m\"\u001b[39m\u001b[39muser\u001b[39m\u001b[39m\"\u001b[39m, \u001b[39m\"\u001b[39m\u001b[39mcontent\u001b[39m\u001b[39m\"\u001b[39m: \u001b[39m\"\u001b[39m\u001b[39mWhat\u001b[39m\u001b[39m'\u001b[39m\u001b[39ms the weather like in San Francisco, Tokyo, and Paris?\u001b[39m\u001b[39m\"\u001b[39m}]\n\u001b[1;32m     <a href='vscode-notebook-cell:/Users/williamthompson/Code/kellogg/krs-llm-cookbook/docs/analyze-text.ipynb#W2sZmlsZQ%3D%3D?line=17'>18</a>\u001b[0m tools \u001b[39m=\u001b[39m [\n\u001b[1;32m     <a href='vscode-notebook-cell:/Users/williamthompson/Code/kellogg/krs-llm-cookbook/docs/analyze-text.ipynb#W2sZmlsZQ%3D%3D?line=18'>19</a>\u001b[0m     {\n\u001b[1;32m     <a href='vscode-notebook-cell:/Users/williamthompson/Code/kellogg/krs-llm-cookbook/docs/analyze-text.ipynb#W2sZmlsZQ%3D%3D?line=19'>20</a>\u001b[0m         \u001b[39m\"\u001b[39m\u001b[39mtype\u001b[39m\u001b[39m\"\u001b[39m: \u001b[39m\"\u001b[39m\u001b[39mfunction\u001b[39m\u001b[39m\"\u001b[39m,\n\u001b[0;32m   (...)\u001b[0m\n\u001b[1;32m     <a href='vscode-notebook-cell:/Users/williamthompson/Code/kellogg/krs-llm-cookbook/docs/analyze-text.ipynb#W2sZmlsZQ%3D%3D?line=35'>36</a>\u001b[0m     }\n\u001b[1;32m     <a href='vscode-notebook-cell:/Users/williamthompson/Code/kellogg/krs-llm-cookbook/docs/analyze-text.ipynb#W2sZmlsZQ%3D%3D?line=36'>37</a>\u001b[0m ]\n\u001b[0;32m---> <a href='vscode-notebook-cell:/Users/williamthompson/Code/kellogg/krs-llm-cookbook/docs/analyze-text.ipynb#W2sZmlsZQ%3D%3D?line=37'>38</a>\u001b[0m response \u001b[39m=\u001b[39m openai\u001b[39m.\u001b[39;49mChatCompletion\u001b[39m.\u001b[39mcreate(\n\u001b[1;32m     <a href='vscode-notebook-cell:/Users/williamthompson/Code/kellogg/krs-llm-cookbook/docs/analyze-text.ipynb#W2sZmlsZQ%3D%3D?line=38'>39</a>\u001b[0m     model\u001b[39m=\u001b[39m\u001b[39m\"\u001b[39m\u001b[39mgpt-3.5-turbo-1106\u001b[39m\u001b[39m\"\u001b[39m,\n\u001b[1;32m     <a href='vscode-notebook-cell:/Users/williamthompson/Code/kellogg/krs-llm-cookbook/docs/analyze-text.ipynb#W2sZmlsZQ%3D%3D?line=39'>40</a>\u001b[0m     messages\u001b[39m=\u001b[39mmessages,\n\u001b[1;32m     <a href='vscode-notebook-cell:/Users/williamthompson/Code/kellogg/krs-llm-cookbook/docs/analyze-text.ipynb#W2sZmlsZQ%3D%3D?line=40'>41</a>\u001b[0m     tools\u001b[39m=\u001b[39mtools,\n\u001b[1;32m     <a href='vscode-notebook-cell:/Users/williamthompson/Code/kellogg/krs-llm-cookbook/docs/analyze-text.ipynb#W2sZmlsZQ%3D%3D?line=41'>42</a>\u001b[0m     tool_choice\u001b[39m=\u001b[39m\u001b[39m\"\u001b[39m\u001b[39mauto\u001b[39m\u001b[39m\"\u001b[39m,  \u001b[39m# auto is default, but we'll be explicit\u001b[39;00m\n\u001b[1;32m     <a href='vscode-notebook-cell:/Users/williamthompson/Code/kellogg/krs-llm-cookbook/docs/analyze-text.ipynb#W2sZmlsZQ%3D%3D?line=42'>43</a>\u001b[0m )\n\u001b[1;32m     <a href='vscode-notebook-cell:/Users/williamthompson/Code/kellogg/krs-llm-cookbook/docs/analyze-text.ipynb#W2sZmlsZQ%3D%3D?line=43'>44</a>\u001b[0m response_message \u001b[39m=\u001b[39m response\u001b[39m.\u001b[39mchoices[\u001b[39m0\u001b[39m]\u001b[39m.\u001b[39mmessage\n\u001b[1;32m     <a href='vscode-notebook-cell:/Users/williamthompson/Code/kellogg/krs-llm-cookbook/docs/analyze-text.ipynb#W2sZmlsZQ%3D%3D?line=44'>45</a>\u001b[0m tool_calls \u001b[39m=\u001b[39m response_message\u001b[39m.\u001b[39mtool_calls\n",
      "\u001b[0;31mAttributeError\u001b[0m: module 'openai' has no attribute 'ChatCompletion'"
     ]
    }
   ],
   "source": [
    "import openai\n",
    "import json\n",
    "\n",
    "# Example dummy function hard coded to return the same weather\n",
    "# In production, this could be your backend API or an external API\n",
    "def get_current_weather(location, unit=\"fahrenheit\"):\n",
    "    \"\"\"Get the current weather in a given location\"\"\"\n",
    "    if \"tokyo\" in location.lower():\n",
    "        return json.dumps({\"location\": location, \"temperature\": \"10\", \"unit\": \"celsius\"})\n",
    "    elif \"san francisco\" in location.lower():\n",
    "        return json.dumps({\"location\": location, \"temperature\": \"72\", \"unit\": \"fahrenheit\"})\n",
    "    else:\n",
    "        return json.dumps({\"location\": location, \"temperature\": \"22\", \"unit\": \"celsius\"})\n",
    "\n",
    "def run_conversation():\n",
    "    # Step 1: send the conversation and available functions to the model\n",
    "    messages = [{\"role\": \"user\", \"content\": \"What's the weather like in San Francisco, Tokyo, and Paris?\"}]\n",
    "    tools = [\n",
    "        {\n",
    "            \"type\": \"function\",\n",
    "            \"function\": {\n",
    "                \"name\": \"get_current_weather\",\n",
    "                \"description\": \"Get the current weather in a given location\",\n",
    "                \"parameters\": {\n",
    "                    \"type\": \"object\",\n",
    "                    \"properties\": {\n",
    "                        \"location\": {\n",
    "                            \"type\": \"string\",\n",
    "                            \"description\": \"The city and state, e.g. San Francisco, CA\",\n",
    "                        },\n",
    "                        \"unit\": {\"type\": \"string\", \"enum\": [\"celsius\", \"fahrenheit\"]},\n",
    "                    },\n",
    "                    \"required\": [\"location\"],\n",
    "                },\n",
    "            },\n",
    "        }\n",
    "    ]\n",
    "    response = openai.ChatCompletion.create(\n",
    "        model=\"gpt-3.5-turbo-1106\",\n",
    "        messages=messages,\n",
    "        tools=tools,\n",
    "        tool_choice=\"auto\",  # auto is default, but we'll be explicit\n",
    "    )\n",
    "    response_message = response.choices[0].message\n",
    "    tool_calls = response_message.tool_calls\n",
    "    # Step 2: check if the model wanted to call a function\n",
    "    if tool_calls:\n",
    "        # Step 3: call the function\n",
    "        # Note: the JSON response may not always be valid; be sure to handle errors\n",
    "        available_functions = {\n",
    "            \"get_current_weather\": get_current_weather,\n",
    "        }  # only one function in this example, but you can have multiple\n",
    "        messages.append(response_message)  # extend conversation with assistant's reply\n",
    "        # Step 4: send the info for each function call and function response to the model\n",
    "        for tool_call in tool_calls:\n",
    "            function_name = tool_call.function.name\n",
    "            function_to_call = available_functions[function_name]\n",
    "            function_args = json.loads(tool_call.function.arguments)\n",
    "            function_response = function_to_call(\n",
    "                location=function_args.get(\"location\"),\n",
    "                unit=function_args.get(\"unit\"),\n",
    "            )\n",
    "            messages.append(\n",
    "                {\n",
    "                    \"tool_call_id\": tool_call.id,\n",
    "                    \"role\": \"tool\",\n",
    "                    \"name\": function_name,\n",
    "                    \"content\": function_response,\n",
    "                }\n",
    "            )  # extend conversation with function response\n",
    "        second_response = openai.ChatCompletion.create(\n",
    "            model=\"gpt-3.5-turbo-1106\",\n",
    "            messages=messages,\n",
    "        )  # get a new response from the model where it can see the function response\n",
    "        return second_response\n",
    "print(run_conversation())"
   ]
  },
  {
   "cell_type": "code",
   "execution_count": null,
   "metadata": {},
   "outputs": [],
   "source": []
  }
 ],
 "metadata": {
  "kernelspec": {
   "display_name": "llm-env",
   "language": "python",
   "name": "python3"
  },
  "language_info": {
   "codemirror_mode": {
    "name": "ipython",
    "version": 3
   },
   "file_extension": ".py",
   "mimetype": "text/x-python",
   "name": "python",
   "nbconvert_exporter": "python",
   "pygments_lexer": "ipython3",
   "version": "3.11.5"
  }
 },
 "nbformat": 4,
 "nbformat_minor": 2
}
