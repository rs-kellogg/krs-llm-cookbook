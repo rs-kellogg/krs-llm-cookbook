{
 "cells": [
  {
   "cell_type": "markdown",
   "metadata": {},
   "source": [
    "# Speech-to-text\n",
    "\n",
    "Whisper AI is a speech-to-text service provided by OpenAI. It relies on ASR (Automatic Speech Recognition) technology, which is the technology used to convert spoken language into written text.  The system is trained on 68,000 hours of speech data from the network and recognizes 99 languages.  You can use Whisper with your OpenAI API credentials. \n",
    "\n",
    "It supports the following file types: m4a, mp3, webm, mp4, mpga, wav, and mpeg."
   ]
  },
  {
   "cell_type": "markdown",
   "metadata": {},
   "source": [
    "### Example use cases:\n",
    "\n",
    "Some example use cases for your work could include:\n",
    "\n",
    "- Getting the meeting notes from a Google or Zoom meeting or interview\n",
    "- Conducting an in-person interview recorded on your computer (example today)\n",
    "- Transcribing a presentation you make at a conference\n",
    "- Transcribing any other type of recorded text. "
   ]
  },
  {
   "cell_type": "markdown",
   "metadata": {},
   "source": [
    "### Real-time Interview Recording\n",
    "\n",
    "To test Whisper AI, let's conduct a toy marketing study. We'll record the audio on our computer <Have students try World Market candies and tell us what they think; record on mac.>"
   ]
  },
  {
   "cell_type": "code",
   "execution_count": null,
   "metadata": {
    "vscode": {
     "languageId": "plaintext"
    }
   },
   "outputs": [],
   "source": [
    "# libraries\n",
    "import pyaudio\n",
    "import wave\n",
    "import openai\n",
    "from pathlib import Path\n",
    "\n",
    "# set the API key\n",
    "openai_key = Path(\"openai.txt\")\n",
    "openai.api_key = openai_key.read_text().strip()\n",
    "\n",
    "# functions\n",
    "def record_audio():\n",
    "   \n",
    "    # Use PyAudio to capture audio from the microphone\n",
    "    audio = pyaudio.PyAudio()\n",
    "   \n",
    "    format = pyaudio.paInt16\n",
    "    channels = 1\n",
    "    rate = 44100\n",
    "    frames_per_buffer = 1024\n",
    "    audio_duration_seconds = 5  # Adjust this based on the audio length\n",
    "   \n",
    "    stream = audio.open(format=format,\n",
    "                        channels=channels,\n",
    "                        rate=rate,\n",
    "                        input=True,\n",
    "                        frames_per_buffer=frames_per_buffer)\n",
    "   \n",
    "    print(\"Recording audio...\")\n",
    "   \n",
    "    frames = []\n",
    "   \n",
    "    for i in range(0, int(rate / frames_per_buffer * audio_duration_seconds)):\n",
    "        data = stream.read(frames_per_buffer)\n",
    "        frames.append(data)\n",
    "       \n",
    "    print(\"Finished recording.\")\n",
    "   \n",
    "    stream.stop_stream()\n",
    "    stream.close()\n",
    "    audio.terminate()\n",
    "   \n",
    "    # Save the captured audio as a WAV file\n",
    "    audio_fname = audio_output / f\"{dni}.wav\"\n",
    "    print(audio_fname)\n",
    " \n",
    " record_audio()"
   ]
  },
  {
   "cell_type": "markdown",
   "metadata": {},
   "source": [
    "You can transcribe the audio with the following:"
   ]
  },
  {
   "cell_type": "code",
   "execution_count": null,
   "metadata": {
    "vscode": {
     "languageId": "plaintext"
    }
   },
   "outputs": [],
   "source": [
    "# Audio file path (replace with your actual file path)\n",
    "audio_file_path = \"path/to/your/audio/file.wav\"\n",
    "\n",
    "# Read audio file as binary data\n",
    "with open(audio_file_path, \"rb\") as f:\n",
    "    audio_data = f.read()\n",
    "\n",
    "# Use OpenAI's Whisper API for transcription\n",
    "response = openai.Whisper.transcribe(\n",
    "    audio_data,\n",
    "    content_type=\"audio/wav\",\n",
    ")\n",
    "\n",
    "# Display the transcribed text\n",
    "transcription = response['transcriptions'][0]['text']\n",
    "print(\"Transcription:\")\n",
    "print(transcription)"
   ]
  }
 ],
 "metadata": {
  "kernelspec": {
   "display_name": "Python 3",
   "language": "python",
   "name": "python3"
  },
  "language_info": {
   "codemirror_mode": {
    "name": "ipython",
    "version": 3
   },
   "file_extension": ".py",
   "mimetype": "text/x-python",
   "name": "python",
   "nbconvert_exporter": "python",
   "pygments_lexer": "ipython3",
   "version": "3.11.4"
  }
 },
 "nbformat": 4,
 "nbformat_minor": 2
}
