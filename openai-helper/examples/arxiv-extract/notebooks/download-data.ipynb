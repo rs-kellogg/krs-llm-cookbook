{
 "cells": [
  {
   "cell_type": "code",
   "execution_count": 2,
   "metadata": {},
   "outputs": [],
   "source": [
    "from datasets import load_dataset\n",
    "from pathlib import Path\n",
    "import pandas as pd\n",
    "import json\n",
    "from tqdm import tqdm"
   ]
  },
  {
   "cell_type": "code",
   "execution_count": 3,
   "metadata": {},
   "outputs": [
    {
     "name": "stderr",
     "output_type": "stream",
     "text": [
      "100%|██████████| 2354025/2354025 [06:58<00:00, 5621.71it/s]  \n"
     ]
    }
   ],
   "source": [
    "datafile = Path(\"../data/arxiv-metadata-oai-snapshot.json\")\n",
    "lines = []\n",
    "with open(datafile) as f:\n",
    "    lines = [line for line in f]\n",
    "\n",
    "data = []\n",
    "for i in tqdm(range(len(lines))):\n",
    "    line = lines[i]\n",
    "    data.append(json.loads(line))\n",
    "\n",
    "data_v1_2023 = [d for d in data if '2023' in d['versions'][0]['created']]"
   ]
  },
  {
   "cell_type": "code",
   "execution_count": 11,
   "metadata": {},
   "outputs": [
    {
     "data": {
      "text/plain": [
       "[{'id': '2310.00014',\n",
       "  'submitter': 'Yong Ren',\n",
       "  'authors': 'Yong Ren, Tao Wang, Jiangyan Yi, Le Xu, Jianhua Tao, Chuyuan Zhang,\\n  Junzuo Zhou',\n",
       "  'title': 'Fewer-token Neural Speech Codec with Time-invariant Codes',\n",
       "  'comments': 'Submitted to ICASSP 2024',\n",
       "  'journal-ref': None,\n",
       "  'doi': None,\n",
       "  'report-no': None,\n",
       "  'categories': 'cs.SD eess.AS',\n",
       "  'license': 'http://arxiv.org/licenses/nonexclusive-distrib/1.0/',\n",
       "  'abstract': '  Language model based text-to-speech (TTS) models, like VALL-E, have gained\\nattention for their outstanding in-context learning capability in zero-shot\\nscenarios. Neural speech codec is a critical component of these models, which\\ncan convert speech into discrete token representations. However, excessive\\ntoken sequences from the codec may negatively affect prediction accuracy and\\nrestrict the progression of Language model based TTS models. To address this\\nissue, this paper proposes a novel neural speech codec with time-invariant\\ncodes named TiCodec. By encoding and quantizing time-invariant information into\\na separate code, TiCodec can reduce the amount of frame-level information that\\nneeds encoding, effectively decreasing the number of tokens as codes of speech.\\nFurthermore, this paper introduces a time-invariant encoding consistency loss\\nto enhance the consistency of time-invariant code within an utterance and force\\nit to capture more global information, which can benefit the zero-shot TTS\\ntask. Experimental results demonstrate that TiCodec can not only enhance the\\nquality of reconstruction speech with fewer tokens but also increase the\\nsimilarity and naturalness, as well as reduce the word error rate of the\\nsynthesized speech by the TTS model.\\n',\n",
       "  'versions': [{'version': 'v1', 'created': 'Fri, 15 Sep 2023 04:32:26 GMT'}],\n",
       "  'update_date': '2023-10-03',\n",
       "  'authors_parsed': [['Ren', 'Yong', ''],\n",
       "   ['Wang', 'Tao', ''],\n",
       "   ['Yi', 'Jiangyan', ''],\n",
       "   ['Xu', 'Le', ''],\n",
       "   ['Tao', 'Jianhua', ''],\n",
       "   ['Zhang', 'Chuyuan', ''],\n",
       "   ['Zhou', 'Junzuo', '']]}]"
      ]
     },
     "execution_count": 11,
     "metadata": {},
     "output_type": "execute_result"
    }
   ],
   "source": [
    "# 2310.00014v1\n",
    "[d for d in data_v1_2023 if '2310.00014' in d['id']]"
   ]
  },
  {
   "cell_type": "code",
   "execution_count": null,
   "metadata": {},
   "outputs": [],
   "source": []
  },
  {
   "cell_type": "code",
   "execution_count": null,
   "metadata": {},
   "outputs": [],
   "source": []
  },
  {
   "cell_type": "code",
   "execution_count": null,
   "metadata": {},
   "outputs": [],
   "source": []
  },
  {
   "cell_type": "markdown",
   "metadata": {},
   "source": [
    "## Datasets Version"
   ]
  },
  {
   "cell_type": "code",
   "execution_count": 3,
   "metadata": {},
   "outputs": [
    {
     "name": "stderr",
     "output_type": "stream",
     "text": [
      "/opt/homebrew/Caskroom/miniconda/base/envs/llm-env/lib/python3.11/site-packages/datasets/table.py:1421: FutureWarning: promote has been superseded by mode='default'.\n",
      "  table = cls._concat_blocks(blocks, axis=0)\n"
     ]
    }
   ],
   "source": [
    "dataset = load_dataset(\"arxiv_dataset\", data_dir='.', split='train', verification_mode='no_checks')\n",
    "ddf = dataset.to_pandas()"
   ]
  }
 ],
 "metadata": {
  "kernelspec": {
   "display_name": "Python 3",
   "language": "python",
   "name": "python3"
  },
  "language_info": {
   "codemirror_mode": {
    "name": "ipython",
    "version": 3
   },
   "file_extension": ".py",
   "mimetype": "text/x-python",
   "name": "python",
   "nbconvert_exporter": "python",
   "pygments_lexer": "ipython3",
   "version": "3.11.5"
  }
 },
 "nbformat": 4,
 "nbformat_minor": 2
}
