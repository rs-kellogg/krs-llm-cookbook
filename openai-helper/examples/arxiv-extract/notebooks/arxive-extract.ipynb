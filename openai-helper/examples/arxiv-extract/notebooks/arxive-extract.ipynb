{
 "cells": [
  {
   "cell_type": "code",
   "execution_count": 63,
   "metadata": {},
   "outputs": [],
   "source": [
    "import re\n",
    "import json\n",
    "import csv\n",
    "import random\n",
    "from pathlib import Path\n",
    "import pandas as pd\n",
    "import json\n",
    "from tqdm import tqdm\n",
    "import leafmap\n",
    "from datasets import load_dataset\n",
    "from openai import OpenAI"
   ]
  },
  {
   "cell_type": "code",
   "execution_count": 21,
   "metadata": {},
   "outputs": [],
   "source": [
    "# datafile = Path(\"../data/arxiv-metadata-oai-snapshot.json\")\n",
    "# lines = []\n",
    "# with open(datafile) as f:\n",
    "#     lines = [line for line in f]\n",
    "\n",
    "# data = []\n",
    "# for i in tqdm(range(len(lines))):\n",
    "#     line = lines[i]\n",
    "#     data.append(json.loads(line))\n",
    "\n",
    "# data_v1_2023 = [d for d in data if '2023' in d['versions'][0]['created']]"
   ]
  },
  {
   "cell_type": "markdown",
   "metadata": {},
   "source": [
    "## Load and filter metadata dataset"
   ]
  },
  {
   "cell_type": "code",
   "execution_count": 6,
   "metadata": {},
   "outputs": [],
   "source": [
    "dataset = load_dataset(\"arxiv_dataset\", data_dir='.', split='train', verification_mode='no_checks')\n",
    "ddf = dataset.to_pandas()"
   ]
  },
  {
   "cell_type": "code",
   "execution_count": 64,
   "metadata": {},
   "outputs": [],
   "source": [
    "id_pattern = re.compile(r\"(.+)v\\d+\\.pdf\")\n",
    "pdf_files = list(Path(\"../data/pdf\").glob(\"*.pdf\"))\n",
    "pdf_files.sort()\n",
    "ids = [\n",
    "    id_pattern.match(pdf.name).group(1) for pdf in pdf_files\n",
    "]\n",
    "\n",
    "ddf_sample = ddf[ddf['id'].isin(ids)].copy()\n",
    "\n",
    "def get_pdf_path(id):\n",
    "    for pdf in pdf_files:\n",
    "        if id in str(pdf.stem):\n",
    "            return pdf.name\n",
    "    return None\n",
    "\n",
    "ddf_sample['pdf'] = ddf_sample.apply(lambda row: get_pdf_path(row['id']), axis=1)\n",
    "ddf_sample.dropna(subset = ['pdf'], inplace=True)\n",
    "ddf_sample.head()\n",
    "ddf_sample.to_csv(\"../data/arxiv_metadata.csv\", index=False, quoting=csv.QUOTE_ALL)"
   ]
  },
  {
   "cell_type": "markdown",
   "metadata": {},
   "source": [
    "## Run text through OpenAI"
   ]
  },
  {
   "cell_type": "code",
   "execution_count": 8,
   "metadata": {},
   "outputs": [
    {
     "name": "stdout",
     "output_type": "stream",
     "text": [
      "OPENAI_API_KEY: sk-3...\n"
     ]
    }
   ],
   "source": [
    "import os\n",
    "from dotenv import load_dotenv # pip install python-dotenv\n",
    "\n",
    "# load the .env file containing your API key\n",
    "load_dotenv()\n",
    "\n",
    "# print (obfuscated) API key\n",
    "print(f\"OPENAI_API_KEY: {os.getenv('OPENAI_API_KEY')[:4]}...\")"
   ]
  },
  {
   "cell_type": "code",
   "execution_count": 9,
   "metadata": {},
   "outputs": [],
   "source": [
    "\n",
    "user_prompt_instructions = \"\"\"\n",
    "Extract the title and authors and affiliations from the first page of a scientific paper. \n",
    "\n",
    "Use the following step-by-step instructions to respond to user inputs.\n",
    "\n",
    "Extract the title and authors from the first page of a scientific paper. The paper text will snipped will be delimited by triple quotes. Geolocate each author affiliation with latitude and longitude.\n",
    "\n",
    "The output should have the following format:\n",
    "\n",
    "{ \"title\": \"The paper's title\",\n",
    "  \"authors\": [\n",
    "    {\n",
    "      \"name\": \"Yong Ren\",\n",
    "      \"email\": null,\n",
    "      \"affiliations\": [ \"list of indices\" ]\n",
    "    }\n",
    "  ],\n",
    " \"affiliations\": [ {\"index\": \"the index\", \"name\": \"The affiliation name\", \"longitude\": \"the longitude\", \"latitude\": \"the latitude\" } ]\n",
    " ]\n",
    "}\n",
    "\n",
    "\"\"\""
   ]
  },
  {
   "cell_type": "code",
   "execution_count": 13,
   "metadata": {},
   "outputs": [],
   "source": [
    "client = OpenAI()\n",
    "\n",
    "def analyze_text(text):\n",
    "    response = client.chat.completions.create(\n",
    "        model=\"gpt-4-1106-preview\",\n",
    "        messages=[\n",
    "            {\n",
    "                \"role\": \"system\",\n",
    "                \"content\": \"You are an expert research librarian. You are precise and can analyze the structure of papers very well. You return information in json format.\"\n",
    "            },\n",
    "            {\n",
    "            \"role\": \"user\",\n",
    "            \"content\": user_prompt_instructions + '\\n\\n\"\"\"' + text + '\\n\\n\"\"\"'\n",
    "            }\n",
    "        ],\n",
    "        response_format={\"type\": \"json_object\"},\n",
    "        temperature=0,\n",
    "        max_tokens=2048,\n",
    "        top_p=1,\n",
    "        frequency_penalty=0,\n",
    "        presence_penalty=0,\n",
    "        seed=42,\n",
    "    )\n",
    "    return json.loads(response.choices[0].message.content)"
   ]
  },
  {
   "cell_type": "code",
   "execution_count": 14,
   "metadata": {},
   "outputs": [],
   "source": [
    "text_files = list(Path(\"../data/text\").glob(\"*.txt\"))\n",
    "random.seed(42)\n",
    "random.shuffle(text_files)\n",
    "text_files_sample = text_files[:5]"
   ]
  },
  {
   "cell_type": "code",
   "execution_count": 15,
   "metadata": {},
   "outputs": [
    {
     "name": "stdout",
     "output_type": "stream",
     "text": [
      "{'title': 'USE YOUR INSTINCT: INSTRUCTION OPTIMIZATION USING NEURAL BANDITS COUPLED WITH TRANSFORMERS', 'authors': [{'name': 'Xiaoqiang Lin', 'email': 'xiaoqiang.lin@comp.nus.edu.sg', 'affiliations': [1]}, {'name': 'Zhaoxuan Wu', 'email': 'wu.zhaoxuan@comp.nus.edu.sg', 'affiliations': [2, 3]}, {'name': 'Zhongxiang Dai', 'email': 'dzx@nus.edu.sg', 'affiliations': [1]}, {'name': 'Wenyang Hu', 'email': 'wenyang@comp.nus.edu.sg', 'affiliations': [1, 2]}, {'name': 'Yao Shu', 'email': 'shuyao95@gmail.com', 'affiliations': [4]}, {'name': 'See-Kiong Ng', 'email': 'seekiong@nus.edu.sg', 'affiliations': [1, 2]}, {'name': 'Patrick Jaillet', 'email': 'jaillet@mit.edu', 'affiliations': [5]}, {'name': 'Bryan Kian Hsiang Low', 'email': 'lowkh@comp.nus.edu.sg', 'affiliations': [1]}], 'affiliations': [{'index': 1, 'name': 'Department of Computer Science, National University of Singapore', 'longitude': '103.7764', 'latitude': '1.2966'}, {'index': 2, 'name': 'Institute of Data Science, National University of Singapore', 'longitude': '103.7758', 'latitude': '1.2942'}, {'index': 3, 'name': 'Integrative Sciences and Engineering Programme, National University of Singapore', 'longitude': '103.7738', 'latitude': '1.2995'}, {'index': 4, 'name': 'AI Platform Department, Tencent', 'longitude': '113.7518', 'latitude': '23.0207'}, {'index': 5, 'name': 'Department of Electrical Engineering and Computer Science, MIT', 'longitude': '-71.0920', 'latitude': '42.3601'}]}\n",
      "{'title': 'Enhancing Zero-Shot Crypto Sentiment with Fine-tuned Language Model and Prompt Engineering', 'authors': [{'name': 'Rahman S M Wahidur', 'email': None, 'affiliations': [1]}, {'name': 'Ishmam Tashdeed', 'email': None, 'affiliations': [2]}, {'name': 'Manjit Kaur', 'email': None, 'affiliations': [3]}, {'name': 'Heung-No Lee', 'email': 'heungno@gist.ac.kr', 'affiliations': [1]}], 'affiliations': [{'index': 1, 'name': 'School of Electrical Engineering and Computer Science, Gwangju Institute of Science and Technology, Gwangju 61005, South Korea', 'longitude': '126.9113', 'latitude': '35.1767'}, {'index': 2, 'name': 'Department of Computer Science and Engineering, Islamic University of Technology, Dhaka, Bangladesh', 'longitude': '90.4125', 'latitude': '23.7903'}, {'index': 3, 'name': 'School of Computer Science and Artificial Intelligence, SR University, Warangal, Telangana, India-506371', 'longitude': '79.5941', 'latitude': '17.9784'}]}\n",
      "{'title': 'A LANGUAGE-AGENT APPROACH TO FORMAL THEOREM-PROVING', 'authors': [{'name': 'Amitayush Thakur', 'email': 'amitayush@utexas.edu', 'affiliations': [1]}, {'name': 'Yeming Wen', 'email': 'ywen@utexas.edu', 'affiliations': [1]}, {'name': 'Swarat Chaudhuri', 'email': 'swarat@cs.utexas.edu', 'affiliations': [1]}], 'affiliations': [{'index': 1, 'name': 'The University of Texas at Austin', 'longitude': '-97.736236', 'latitude': '30.284918'}]}\n",
      "{'title': 'Recurrent Neural Language Models as Probabilistic Finite-state Automata', 'authors': [{'name': 'Anej Svete', 'email': 'asvete@inf.ethz.ch', 'affiliations': [1]}, {'name': 'Ryan Cotterell', 'email': 'ryan.cotterell@inf.ethz.ch', 'affiliations': [1]}], 'affiliations': [{'index': 1, 'name': 'ETH Zurich', 'longitude': '8.54805', 'latitude': '47.37689'}]}\n",
      "{'title': 'CRITIQUE ABILITY OF LARGE LANGUAGE MODELS', 'authors': [{'name': 'Liangchen Luo', 'email': 'luolc@google.com', 'affiliations': [1]}, {'name': 'Zi Lin', 'email': None, 'affiliations': [2]}, {'name': 'Yinxiao Liu', 'email': None, 'affiliations': [1]}, {'name': 'Lei Shu', 'email': None, 'affiliations': [1]}, {'name': 'Yun Zhu', 'email': None, 'affiliations': [1]}, {'name': 'Jingbo Shang', 'email': None, 'affiliations': [2]}, {'name': 'Lei Meng', 'email': 'leimeng@google.com', 'affiliations': [1]}], 'affiliations': [{'index': 1, 'name': 'Google Research', 'longitude': '-122.084', 'latitude': '37.422'}, {'index': 2, 'name': 'UC San Diego', 'longitude': '-117.234013', 'latitude': '32.880060'}]}\n"
     ]
    }
   ],
   "source": [
    "data = dict()\n",
    "for text_file in text_files_sample:\n",
    "    try:\n",
    "        result = analyze_text(text_file.read_text())\n",
    "        print(result)\n",
    "        data[text_file.name] = result\n",
    "    except Exception as e:\n",
    "        print(text_file.name, e)"
   ]
  },
  {
   "cell_type": "code",
   "execution_count": 47,
   "metadata": {},
   "outputs": [
    {
     "data": {
      "text/html": [
       "<div>\n",
       "<style scoped>\n",
       "    .dataframe tbody tr th:only-of-type {\n",
       "        vertical-align: middle;\n",
       "    }\n",
       "\n",
       "    .dataframe tbody tr th {\n",
       "        vertical-align: top;\n",
       "    }\n",
       "\n",
       "    .dataframe thead th {\n",
       "        text-align: right;\n",
       "    }\n",
       "</style>\n",
       "<table border=\"1\" class=\"dataframe\">\n",
       "  <thead>\n",
       "    <tr style=\"text-align: right;\">\n",
       "      <th></th>\n",
       "      <th>id</th>\n",
       "      <th>title</th>\n",
       "      <th>author</th>\n",
       "      <th>email</th>\n",
       "      <th>affiliation</th>\n",
       "      <th>longitude</th>\n",
       "      <th>latitude</th>\n",
       "    </tr>\n",
       "  </thead>\n",
       "  <tbody>\n",
       "    <tr>\n",
       "      <th>0</th>\n",
       "      <td>2310.02905</td>\n",
       "      <td>USE YOUR INSTINCT: INSTRUCTION OPTIMIZATION US...</td>\n",
       "      <td>Xiaoqiang Lin</td>\n",
       "      <td>xiaoqiang.lin@comp.nus.edu.sg</td>\n",
       "      <td>Department of Computer Science, National Unive...</td>\n",
       "      <td>103.7764</td>\n",
       "      <td>1.2966</td>\n",
       "    </tr>\n",
       "    <tr>\n",
       "      <th>1</th>\n",
       "      <td>2310.02905</td>\n",
       "      <td>USE YOUR INSTINCT: INSTRUCTION OPTIMIZATION US...</td>\n",
       "      <td>Zhaoxuan Wu</td>\n",
       "      <td>wu.zhaoxuan@comp.nus.edu.sg</td>\n",
       "      <td>Institute of Data Science, National University...</td>\n",
       "      <td>103.7758</td>\n",
       "      <td>1.2942</td>\n",
       "    </tr>\n",
       "    <tr>\n",
       "      <th>2</th>\n",
       "      <td>2310.02905</td>\n",
       "      <td>USE YOUR INSTINCT: INSTRUCTION OPTIMIZATION US...</td>\n",
       "      <td>Zhaoxuan Wu</td>\n",
       "      <td>wu.zhaoxuan@comp.nus.edu.sg</td>\n",
       "      <td>Integrative Sciences and Engineering Programme...</td>\n",
       "      <td>103.7738</td>\n",
       "      <td>1.2995</td>\n",
       "    </tr>\n",
       "    <tr>\n",
       "      <th>3</th>\n",
       "      <td>2310.02905</td>\n",
       "      <td>USE YOUR INSTINCT: INSTRUCTION OPTIMIZATION US...</td>\n",
       "      <td>Zhongxiang Dai</td>\n",
       "      <td>dzx@nus.edu.sg</td>\n",
       "      <td>Department of Computer Science, National Unive...</td>\n",
       "      <td>103.7764</td>\n",
       "      <td>1.2966</td>\n",
       "    </tr>\n",
       "    <tr>\n",
       "      <th>4</th>\n",
       "      <td>2310.02905</td>\n",
       "      <td>USE YOUR INSTINCT: INSTRUCTION OPTIMIZATION US...</td>\n",
       "      <td>Wenyang Hu</td>\n",
       "      <td>wenyang@comp.nus.edu.sg</td>\n",
       "      <td>Department of Computer Science, National Unive...</td>\n",
       "      <td>103.7764</td>\n",
       "      <td>1.2966</td>\n",
       "    </tr>\n",
       "  </tbody>\n",
       "</table>\n",
       "</div>"
      ],
      "text/plain": [
       "           id                                              title  \\\n",
       "0  2310.02905  USE YOUR INSTINCT: INSTRUCTION OPTIMIZATION US...   \n",
       "1  2310.02905  USE YOUR INSTINCT: INSTRUCTION OPTIMIZATION US...   \n",
       "2  2310.02905  USE YOUR INSTINCT: INSTRUCTION OPTIMIZATION US...   \n",
       "3  2310.02905  USE YOUR INSTINCT: INSTRUCTION OPTIMIZATION US...   \n",
       "4  2310.02905  USE YOUR INSTINCT: INSTRUCTION OPTIMIZATION US...   \n",
       "\n",
       "           author                          email  \\\n",
       "0   Xiaoqiang Lin  xiaoqiang.lin@comp.nus.edu.sg   \n",
       "1     Zhaoxuan Wu    wu.zhaoxuan@comp.nus.edu.sg   \n",
       "2     Zhaoxuan Wu    wu.zhaoxuan@comp.nus.edu.sg   \n",
       "3  Zhongxiang Dai                 dzx@nus.edu.sg   \n",
       "4      Wenyang Hu        wenyang@comp.nus.edu.sg   \n",
       "\n",
       "                                         affiliation longitude latitude  \n",
       "0  Department of Computer Science, National Unive...  103.7764   1.2966  \n",
       "1  Institute of Data Science, National University...  103.7758   1.2942  \n",
       "2  Integrative Sciences and Engineering Programme...  103.7738   1.2995  \n",
       "3  Department of Computer Science, National Unive...  103.7764   1.2966  \n",
       "4  Department of Computer Science, National Unive...  103.7764   1.2966  "
      ]
     },
     "execution_count": 47,
     "metadata": {},
     "output_type": "execute_result"
    }
   ],
   "source": [
    "id_pattern = re.compile(r\"(.+)v\\d+\\.txt\")\n",
    "\n",
    "df_data = []\n",
    "for k, v in data.items():\n",
    "    assert \"authors\" in v, \"authors not found\"\n",
    "    assert \"affiliations\" in v, \"affiliations not found\"\n",
    "    for auth in v['authors']:\n",
    "        assert \"name\" in auth, \"name not found\"\n",
    "        assert \"email\" in auth, \"email not found\"\n",
    "        assert \"affiliations\" in auth, \"affiliations not found\"\n",
    "    for aff in v['affiliations']:\n",
    "        assert \"index\" in aff, \"index not found\"\n",
    "        assert \"name\" in aff, \"name not found\"\n",
    "        assert \"longitude\" in aff, \"longitude not found\"\n",
    "        assert \"latitude\" in aff, \"latitude not found\"\n",
    "    for author in v['authors']:\n",
    "        for index in author['affiliations']:\n",
    "            row = dict()\n",
    "            row['id'] = id_pattern.match(k).group(1)\n",
    "            row['title'] = v['title']\n",
    "            row['author'] = author['name']\n",
    "            row['email'] = author['email']\n",
    "            for aff in v['affiliations']:\n",
    "                if aff['index'] == int(index):\n",
    "                    row['affiliation'] = aff['name']\n",
    "                    row['longitude'] = aff['longitude']\n",
    "                    row['latitude'] = aff['latitude']\n",
    "                    df_data.append(row)\n",
    "        \n",
    "df = pd.DataFrame(df_data)\n",
    "df.head()"
   ]
  },
  {
   "cell_type": "markdown",
   "metadata": {},
   "source": [
    "## Evaluation"
   ]
  },
  {
   "cell_type": "code",
   "execution_count": 57,
   "metadata": {},
   "outputs": [
    {
     "name": "stdout",
     "output_type": "stream",
     "text": [
      "2310.02905\n",
      "2310.02905\n",
      "2310.02905\n",
      "2310.02905\n",
      "2310.02905\n",
      "2310.02905\n",
      "2310.02905\n",
      "2310.02905\n",
      "2310.02905\n",
      "2310.02905\n",
      "2310.02905\n",
      "2310.13226\n",
      "2310.13226\n",
      "2310.13226\n",
      "2310.13226\n",
      "2310.04353\n",
      "2310.04353\n",
      "2310.04353\n",
      "2310.05161\n",
      "2310.05161\n",
      "2310.04815\n",
      "2310.04815\n",
      "2310.04815\n",
      "2310.04815\n",
      "2310.04815\n",
      "2310.04815\n",
      "2310.04815\n",
      "true_positives: [('2310.02905', 'Wenyang Hu'), ('2310.02905', 'Yao Shu'), ('2310.02905', 'Bryan Kian Hsiang Low'), ('2310.02905', 'Zhongxiang Dai'), ('2310.02905', 'Patrick Jaillet'), ('2310.02905', 'See-Kiong Ng'), ('2310.02905', 'Zhaoxuan Wu'), ('2310.02905', 'Xiaoqiang Lin'), ('2310.02905', 'Wenyang Hu'), ('2310.02905', 'Yao Shu'), ('2310.02905', 'Bryan Kian Hsiang Low'), ('2310.02905', 'Zhongxiang Dai'), ('2310.02905', 'Patrick Jaillet'), ('2310.02905', 'See-Kiong Ng'), ('2310.02905', 'Zhaoxuan Wu'), ('2310.02905', 'Xiaoqiang Lin'), ('2310.02905', 'Wenyang Hu'), ('2310.02905', 'Yao Shu'), ('2310.02905', 'Bryan Kian Hsiang Low'), ('2310.02905', 'Zhongxiang Dai'), ('2310.02905', 'Patrick Jaillet'), ('2310.02905', 'See-Kiong Ng'), ('2310.02905', 'Zhaoxuan Wu'), ('2310.02905', 'Xiaoqiang Lin'), ('2310.02905', 'Wenyang Hu'), ('2310.02905', 'Yao Shu'), ('2310.02905', 'Bryan Kian Hsiang Low'), ('2310.02905', 'Zhongxiang Dai'), ('2310.02905', 'Patrick Jaillet'), ('2310.02905', 'See-Kiong Ng'), ('2310.02905', 'Zhaoxuan Wu'), ('2310.02905', 'Xiaoqiang Lin'), ('2310.02905', 'Wenyang Hu'), ('2310.02905', 'Yao Shu'), ('2310.02905', 'Bryan Kian Hsiang Low'), ('2310.02905', 'Zhongxiang Dai'), ('2310.02905', 'Patrick Jaillet'), ('2310.02905', 'See-Kiong Ng'), ('2310.02905', 'Zhaoxuan Wu'), ('2310.02905', 'Xiaoqiang Lin'), ('2310.02905', 'Wenyang Hu'), ('2310.02905', 'Yao Shu'), ('2310.02905', 'Bryan Kian Hsiang Low'), ('2310.02905', 'Zhongxiang Dai'), ('2310.02905', 'Patrick Jaillet'), ('2310.02905', 'See-Kiong Ng'), ('2310.02905', 'Zhaoxuan Wu'), ('2310.02905', 'Xiaoqiang Lin'), ('2310.02905', 'Wenyang Hu'), ('2310.02905', 'Yao Shu'), ('2310.02905', 'Bryan Kian Hsiang Low'), ('2310.02905', 'Zhongxiang Dai'), ('2310.02905', 'Patrick Jaillet'), ('2310.02905', 'See-Kiong Ng'), ('2310.02905', 'Zhaoxuan Wu'), ('2310.02905', 'Xiaoqiang Lin'), ('2310.02905', 'Wenyang Hu'), ('2310.02905', 'Yao Shu'), ('2310.02905', 'Bryan Kian Hsiang Low'), ('2310.02905', 'Zhongxiang Dai'), ('2310.02905', 'Patrick Jaillet'), ('2310.02905', 'See-Kiong Ng'), ('2310.02905', 'Zhaoxuan Wu'), ('2310.02905', 'Xiaoqiang Lin'), ('2310.02905', 'Wenyang Hu'), ('2310.02905', 'Yao Shu'), ('2310.02905', 'Bryan Kian Hsiang Low'), ('2310.02905', 'Zhongxiang Dai'), ('2310.02905', 'Patrick Jaillet'), ('2310.02905', 'See-Kiong Ng'), ('2310.02905', 'Zhaoxuan Wu'), ('2310.02905', 'Xiaoqiang Lin'), ('2310.02905', 'Wenyang Hu'), ('2310.02905', 'Yao Shu'), ('2310.02905', 'Bryan Kian Hsiang Low'), ('2310.02905', 'Zhongxiang Dai'), ('2310.02905', 'Patrick Jaillet'), ('2310.02905', 'See-Kiong Ng'), ('2310.02905', 'Zhaoxuan Wu'), ('2310.02905', 'Xiaoqiang Lin'), ('2310.02905', 'Wenyang Hu'), ('2310.02905', 'Yao Shu'), ('2310.02905', 'Bryan Kian Hsiang Low'), ('2310.02905', 'Zhongxiang Dai'), ('2310.02905', 'Patrick Jaillet'), ('2310.02905', 'See-Kiong Ng'), ('2310.02905', 'Zhaoxuan Wu'), ('2310.02905', 'Xiaoqiang Lin'), ('2310.13226', 'Manjit Kaur'), ('2310.13226', 'Rahman S M Wahidur'), ('2310.13226', 'Ishmam Tashdeed'), ('2310.13226', 'Manjit Kaur'), ('2310.13226', 'Rahman S M Wahidur'), ('2310.13226', 'Ishmam Tashdeed'), ('2310.13226', 'Manjit Kaur'), ('2310.13226', 'Rahman S M Wahidur'), ('2310.13226', 'Ishmam Tashdeed'), ('2310.13226', 'Manjit Kaur'), ('2310.13226', 'Rahman S M Wahidur'), ('2310.13226', 'Ishmam Tashdeed'), ('2310.04353', 'Amitayush Thakur'), ('2310.04353', 'Yeming Wen'), ('2310.04353', 'Swarat Chaudhuri'), ('2310.04353', 'Amitayush Thakur'), ('2310.04353', 'Yeming Wen'), ('2310.04353', 'Swarat Chaudhuri'), ('2310.04353', 'Amitayush Thakur'), ('2310.04353', 'Yeming Wen'), ('2310.04353', 'Swarat Chaudhuri'), ('2310.05161', 'Ryan Cotterell'), ('2310.05161', 'Anej Svete'), ('2310.05161', 'Ryan Cotterell'), ('2310.05161', 'Anej Svete'), ('2310.04815', 'Yun Zhu'), ('2310.04815', 'Zi Lin'), ('2310.04815', 'Liangchen Luo'), ('2310.04815', 'Yinxiao Liu'), ('2310.04815', 'Lei Meng'), ('2310.04815', 'Lei Shu'), ('2310.04815', 'Jingbo Shang'), ('2310.04815', 'Yun Zhu'), ('2310.04815', 'Zi Lin'), ('2310.04815', 'Liangchen Luo'), ('2310.04815', 'Yinxiao Liu'), ('2310.04815', 'Lei Meng'), ('2310.04815', 'Lei Shu'), ('2310.04815', 'Jingbo Shang'), ('2310.04815', 'Yun Zhu'), ('2310.04815', 'Zi Lin'), ('2310.04815', 'Liangchen Luo'), ('2310.04815', 'Yinxiao Liu'), ('2310.04815', 'Lei Meng'), ('2310.04815', 'Lei Shu'), ('2310.04815', 'Jingbo Shang'), ('2310.04815', 'Yun Zhu'), ('2310.04815', 'Zi Lin'), ('2310.04815', 'Liangchen Luo'), ('2310.04815', 'Yinxiao Liu'), ('2310.04815', 'Lei Meng'), ('2310.04815', 'Lei Shu'), ('2310.04815', 'Jingbo Shang'), ('2310.04815', 'Yun Zhu'), ('2310.04815', 'Zi Lin'), ('2310.04815', 'Liangchen Luo'), ('2310.04815', 'Yinxiao Liu'), ('2310.04815', 'Lei Meng'), ('2310.04815', 'Lei Shu'), ('2310.04815', 'Jingbo Shang'), ('2310.04815', 'Yun Zhu'), ('2310.04815', 'Zi Lin'), ('2310.04815', 'Liangchen Luo'), ('2310.04815', 'Yinxiao Liu'), ('2310.04815', 'Lei Meng'), ('2310.04815', 'Lei Shu'), ('2310.04815', 'Jingbo Shang'), ('2310.04815', 'Yun Zhu'), ('2310.04815', 'Zi Lin'), ('2310.04815', 'Liangchen Luo'), ('2310.04815', 'Yinxiao Liu'), ('2310.04815', 'Lei Meng'), ('2310.04815', 'Lei Shu'), ('2310.04815', 'Jingbo Shang')]\n",
      "false_positives: [('2310.13226', 'Heung-No Lee'), ('2310.13226', 'Heung-No Lee'), ('2310.13226', 'Heung-No Lee'), ('2310.13226', 'Heung-No Lee')]\n",
      "false_negatives: [('2310.13226', 'Heung-No-Lee'), ('2310.13226', 'Heung-No-Lee'), ('2310.13226', 'Heung-No-Lee'), ('2310.13226', 'Heung-No-Lee')]\n",
      "precision: 0.9759036144578314\n",
      "recall: 0.9759036144578314\n"
     ]
    }
   ],
   "source": [
    "true_positives = []\n",
    "false_positives = []\n",
    "true_negatives = []\n",
    "false_negatives = []\n",
    "\n",
    "for id in df['id']:\n",
    "    print(id)\n",
    "    gold_title = list(ddf_sample[ddf_sample['id'] == id]['title'])[0]\n",
    "\n",
    "    gold_authors = list(ddf_sample[ddf_sample['id'] == id]['authors'])[0]\n",
    "    gold_authors = {a.strip() for a in gold_authors.split(',')}\n",
    "\n",
    "    predicted = df[df['id'] == id]\n",
    "    predicted_title = list(predicted['title'])[0]\n",
    "    predicted_authors = set(predicted['author'])\n",
    "    \n",
    "    for author in predicted_authors:\n",
    "        if author in gold_authors:\n",
    "            true_positives.append((id, author))\n",
    "        else:\n",
    "            false_positives.append((id, author))\n",
    "    \n",
    "    for author in gold_authors:\n",
    "        if author not in predicted_authors:\n",
    "            false_negatives.append((id, author))\n",
    "\n",
    "print(\"true_positives:\", true_positives)\n",
    "print(\"false_positives:\", false_positives)\n",
    "print(\"false_negatives:\", false_negatives)\n",
    "print(\"precision:\", len(true_positives) / (len(true_positives) + len(false_positives)))\n",
    "print(\"recall:\", len(true_positives) / (len(true_positives) + len(false_negatives)))"
   ]
  },
  {
   "cell_type": "code",
   "execution_count": null,
   "metadata": {},
   "outputs": [],
   "source": []
  },
  {
   "cell_type": "code",
   "execution_count": null,
   "metadata": {},
   "outputs": [],
   "source": []
  },
  {
   "cell_type": "markdown",
   "metadata": {},
   "source": [
    "## Mapping"
   ]
  },
  {
   "cell_type": "code",
   "execution_count": 18,
   "metadata": {},
   "outputs": [
    {
     "data": {
      "application/vnd.jupyter.widget-view+json": {
       "model_id": "2be6fe722fc94dfd9d7787f61ca86667",
       "version_major": 2,
       "version_minor": 0
      },
      "text/plain": [
       "Map(center=[20, 0], controls=(ZoomControl(options=['position', 'zoom_in_text', 'zoom_in_title', 'zoom_out_text…"
      ]
     },
     "execution_count": 18,
     "metadata": {},
     "output_type": "execute_result"
    }
   ],
   "source": [
    "map = leafmap.Map()\n",
    "map.add_xy_data(df, x=\"longitude\", y=\"latitude\", layer_name=\"World Cities\")\n",
    "map"
   ]
  },
  {
   "cell_type": "code",
   "execution_count": 62,
   "metadata": {},
   "outputs": [
    {
     "data": {
      "application/vnd.jupyter.widget-view+json": {
       "model_id": "4c9b27143bc34701b83333d0df7d5e3c",
       "version_major": 2,
       "version_minor": 0
      },
      "text/plain": [
       "Map(center=[42.0451, -87.6877], close_popup_on_click=False, controls=(ZoomControl(options=['position', 'zoom_i…"
      ]
     },
     "execution_count": 62,
     "metadata": {},
     "output_type": "execute_result"
    }
   ],
   "source": [
    "from ipywidgets import HTML\n",
    "from ipyleaflet import Map, Marker, Popup\n",
    "\n",
    "center = (42.0451, -87.6877)\n",
    "m = Map(center=center, zoom=2, close_popup_on_click=False)\n",
    "\n",
    "\n",
    "for row in df.iterrows():\n",
    "    marker = Marker(location=(row[1]['latitude'], row[1]['longitude']))\n",
    "    message = HTML()\n",
    "    message.value = f\"{row[1]['author']} <b>{row[1]['affiliation']}</b>\"\n",
    "    message.placeholder = \"Author\"\n",
    "    message.description = \"Author\"\n",
    "    marker.popup = message\n",
    "    m.add_layer(marker)\n",
    "\n",
    "m\n"
   ]
  },
  {
   "cell_type": "code",
   "execution_count": null,
   "metadata": {},
   "outputs": [],
   "source": []
  }
 ],
 "metadata": {
  "kernelspec": {
   "display_name": "Python 3",
   "language": "python",
   "name": "python3"
  },
  "language_info": {
   "codemirror_mode": {
    "name": "ipython",
    "version": 3
   },
   "file_extension": ".py",
   "mimetype": "text/x-python",
   "name": "python",
   "nbconvert_exporter": "python",
   "pygments_lexer": "ipython3",
   "version": "3.11.5"
  }
 },
 "nbformat": 4,
 "nbformat_minor": 2
}
