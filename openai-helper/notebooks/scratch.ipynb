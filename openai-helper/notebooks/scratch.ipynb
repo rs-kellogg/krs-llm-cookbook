{
 "cells": [
  {
   "cell_type": "code",
   "execution_count": 1,
   "metadata": {},
   "outputs": [],
   "source": [
    "from pathlib import Path\n",
    "import fitz"
   ]
  },
  {
   "cell_type": "code",
   "execution_count": 9,
   "metadata": {},
   "outputs": [],
   "source": [
    "doc = fitz.open(\"/kellogg/data/arxiv/pdf/2310/2310.00001v1.pdf\")"
   ]
  },
  {
   "cell_type": "code",
   "execution_count": 15,
   "metadata": {},
   "outputs": [
    {
     "data": {
      "text/plain": [
       "'ASAPY: A PYTHON LIBRARY FOR AEROSPACE SIMULATION ANALYSIS\\nJoao P. A. Dantas\\nSamara R. Silva\\nVitor C. F. Gomes\\nAndre N. Costa\\nAdrisson R. Samersla\\nDiego Geraldo\\nDecision Support Systems Subdivision\\nInstitute for Advanced Studies\\nTrevo Cel Av Jose A. A. do Amarante, 1, Putim\\nSao Jose dos Campos, SP 12228-001, BRAZIL\\nMarcos R. O. A. Maximo\\nAutonomous Computational Systems Lab (LAB-SCA)\\nAeronautics Institute of Technology\\nPraca Marechal Eduardo Gomes, 50, Vila das Acacias\\nSao Jose dos Campos, SP 12228-900, BRAZIL\\nTakashi Yoneyama\\nElectronic Engineering Division\\nAeronautics Institute of Technology\\nPraca Marechal Eduardo Gomes, 50, Vila das Acacias\\nSao Jose dos Campos, SP 12228-900, BRAZIL\\nABSTRACT\\nAsaPy is a custom-made Python library designed to simplify and optimize the analysis of simulation data.\\nIt offers a range of features, including the design of experiment methods, statistical analysis techniques,\\nmachine learning algorithms, and data visualization tools. AsaPy’s flexibility and customizability make\\nit a viable solution for engineers and researchers who need to quickly gain insights into constructive\\nsimulations. AsaPy is built on top of popular scientific computing libraries, ensuring high performance and\\nscalability. In this work, we provide an overview of the key features and capabilities of AsaPy, followed\\nby an exposition of its architecture and demonstrations of its effectiveness through some use cases applied\\nin military operational simulations. We also evaluate how other simulation tools deal with data science,\\nhighlighting AsaPy’s strengths and advantages. Finally, we discuss potential use cases and applications of\\nAsaPy and outline future directions for the development and improvement of the library.\\n1\\nINTRODUCTION\\nTheuseofsimulationinthemilitarycontexthasbecomeincreasinglyprevalentforavarietyofpurposes(Costa\\net al. 2022). This shift from live exercises to simulation is due to multiple reasons, including cost reduction\\nand increased safety (Davis and Henninger 2007). Simulation may be used for designing, testing, and\\noptimizing complex systems such as aircraft, radars, and weapons (Dantas et al. 2021b). However, the vast\\namount of simulation data generated can be overwhelming, making the analysis process time-consuming\\nand challenging, which may require more sophisticated algorithms and tools (Dantas et al. 2022; Dantas\\net al. 2022). In response, AsaPy, a custom-made Python library, was designed in the context of the\\narXiv:2310.00001v1  [cs.MS]  12 Jul 2023\\n'"
      ]
     },
     "execution_count": 15,
     "metadata": {},
     "output_type": "execute_result"
    }
   ],
   "source": [
    "doc[0].get_text()"
   ]
  },
  {
   "cell_type": "code",
   "execution_count": 17,
   "metadata": {},
   "outputs": [],
   "source": [
    "start_page = 0\n",
    "end_page = 10\n",
    "pages = [page for page in doc if start_page <= page.number <= end_page]"
   ]
  },
  {
   "cell_type": "code",
   "execution_count": 18,
   "metadata": {},
   "outputs": [
    {
     "data": {
      "text/plain": [
       "11"
      ]
     },
     "execution_count": 18,
     "metadata": {},
     "output_type": "execute_result"
    }
   ],
   "source": [
    "len(pages)"
   ]
  },
  {
   "cell_type": "code",
   "execution_count": null,
   "metadata": {},
   "outputs": [],
   "source": []
  }
 ],
 "metadata": {
  "kernelspec": {
   "display_name": "Python 3",
   "language": "python",
   "name": "python3"
  },
  "language_info": {
   "codemirror_mode": {
    "name": "ipython",
    "version": 3
   },
   "file_extension": ".py",
   "mimetype": "text/x-python",
   "name": "python",
   "nbconvert_exporter": "python",
   "pygments_lexer": "ipython3",
   "version": "3.11.6"
  }
 },
 "nbformat": 4,
 "nbformat_minor": 2
}
