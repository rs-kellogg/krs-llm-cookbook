{
 "cells": [
  {
   "cell_type": "code",
   "execution_count": 1,
   "id": "e0b34ad2-c541-4aec-af11-b33e7e2dbe90",
   "metadata": {},
   "outputs": [],
   "source": [
    "from scholarly import scholarly"
   ]
  },
  {
   "cell_type": "code",
   "execution_count": 2,
   "id": "eed6a777-c4b9-4cdb-a95c-aaccc697a323",
   "metadata": {},
   "outputs": [],
   "source": [
    "from scholarly import ProxyGenerator\n",
    "\n",
    "# Set up a ProxyGenerator object to use free proxies\n",
    "# This needs to be done only once per session\n",
    "pg = ProxyGenerator()\n",
    "pg.FreeProxies()\n",
    "scholarly.use_proxy(pg)"
   ]
  },
  {
   "cell_type": "code",
   "execution_count": null,
   "id": "ee259941-53da-43ad-a403-7003e3377875",
   "metadata": {},
   "outputs": [
    {
     "name": "stdout",
     "output_type": "stream",
     "text": [
      "b\"{'affiliation': 'Applied Vision Scientist at Google LLC',\\n 'citedby': 546,\\n 'email_domain': '@google.com',\\n 'filled': False,\\n 'interests': ['Depth Cues',\\n               '3D Shape',\\n               'Shape from Texture & Shading',\\n               'Naive Physics',\\n               'Haptics'],\\n 'name': 'Steven A. Cholewiak, PhD',\\n 'scholar_id': '4bahYMkAAAAJ',\\n 'source': 'SEARCH_AUTHOR_SNIPPETS',\\n 'url_picture': 'https://scholar.google.com/citations?view_op=medium_photo&user=4bahYMkAAAAJ'}\"\n"
     ]
    }
   ],
   "source": [
    "\n",
    "# Retrieve the author's data, fill-in, and print\n",
    "# Get an iterator for the author results\n",
    "search_query = scholarly.search_author('Steven A Cholewiak')\n",
    "# Retrieve the first result from the iterator\n",
    "first_author_result = next(search_query)\n",
    "scholarly.pprint(first_author_result)\n",
    "\n",
    "# Retrieve all the details for the author\n",
    "author = scholarly.fill(first_author_result )\n",
    "scholarly.pprint(author)\n",
    "\n",
    "# Take a closer look at the first publication\n",
    "first_publication = author['publications'][0]\n",
    "first_publication_filled = scholarly.fill(first_publication)\n",
    "scholarly.pprint(first_publication_filled)\n",
    "\n",
    "# Print the titles of the author's publications\n",
    "publication_titles = [pub['bib']['title'] for pub in author['publications']]\n",
    "print(publication_titles)\n",
    "\n",
    "# Which papers cited that publication?\n",
    "citations = [citation['bib']['title'] for citation in scholarly.citedby(first_publication_filled)]\n",
    "print(citations)"
   ]
  },
  {
   "cell_type": "code",
   "execution_count": null,
   "id": "0ead4d32-a858-41cb-b835-c7f2435c01bc",
   "metadata": {},
   "outputs": [],
   "source": []
  }
 ],
 "metadata": {
  "kernelspec": {
   "display_name": "Python 3 (ipykernel)",
   "language": "python",
   "name": "python3"
  },
  "language_info": {
   "codemirror_mode": {
    "name": "ipython",
    "version": 3
   },
   "file_extension": ".py",
   "mimetype": "text/x-python",
   "name": "python",
   "nbconvert_exporter": "python",
   "pygments_lexer": "ipython3",
   "version": "3.12.0"
  }
 },
 "nbformat": 4,
 "nbformat_minor": 5
}
