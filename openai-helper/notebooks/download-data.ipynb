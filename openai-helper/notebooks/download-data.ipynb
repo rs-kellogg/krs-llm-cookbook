{
 "cells": [
  {
   "cell_type": "code",
   "execution_count": 17,
   "metadata": {},
   "outputs": [],
   "source": [
    "from datasets import load_dataset\n",
    "from pathlib import Path\n",
    "import pandas as pd\n",
    "import polars as pl\n",
    "import json\n",
    "from tqdm import tqdm"
   ]
  },
  {
   "cell_type": "code",
   "execution_count": 13,
   "metadata": {},
   "outputs": [],
   "source": [
    "# dataset = load_dataset(\"arxiv_dataset\")"
   ]
  },
  {
   "cell_type": "code",
   "execution_count": 14,
   "metadata": {},
   "outputs": [],
   "source": [
    "datafile = Path(\"/kellogg/data/arxiv/arxiv-metadata-oai-snapshot.json\")"
   ]
  },
  {
   "cell_type": "code",
   "execution_count": 16,
   "metadata": {},
   "outputs": [
    {
     "name": "stdout",
     "output_type": "stream",
     "text": [
      "2354025\n"
     ]
    }
   ],
   "source": [
    "lines = []\n",
    "with open(datafile) as f:\n",
    "    lines = [line for line in f]\n",
    "\n",
    "print(len(lines))"
   ]
  },
  {
   "cell_type": "code",
   "execution_count": 18,
   "metadata": {},
   "outputs": [
    {
     "name": "stderr",
     "output_type": "stream",
     "text": [
      "100%|██████████| 2354025/2354025 [01:27<00:00, 26922.19it/s] \n"
     ]
    }
   ],
   "source": [
    "data = []\n",
    "for i in tqdm(range(len(lines))):\n",
    "    line = lines[i]\n",
    "    data.append(json.loads(line))"
   ]
  },
  {
   "cell_type": "code",
   "execution_count": 30,
   "metadata": {},
   "outputs": [],
   "source": [
    "data_v1_2023 = [d for d in data if '2023' in d['versions'][0]['created']]"
   ]
  },
  {
   "cell_type": "code",
   "execution_count": 32,
   "metadata": {},
   "outputs": [
    {
     "data": {
      "text/plain": [
       "{'id': '2301.00011',\n",
       " 'submitter': 'Zhangkai Wu',\n",
       " 'authors': 'Zhangkai Wu and Longbing Cao and Lei Qi',\n",
       " 'title': 'eVAE: Evolutionary Variational Autoencoder',\n",
       " 'comments': None,\n",
       " 'journal-ref': None,\n",
       " 'doi': None,\n",
       " 'report-no': None,\n",
       " 'categories': 'cs.NE cs.LG',\n",
       " 'license': 'http://creativecommons.org/licenses/by/4.0/',\n",
       " 'abstract': '  The surrogate loss of variational autoencoders (VAEs) poses various\\nchallenges to their training, inducing the imbalance between task fitting and\\nrepresentation inference. To avert this, the existing strategies for VAEs focus\\non adjusting the tradeoff by introducing hyperparameters, deriving a tighter\\nbound under some mild assumptions, or decomposing the loss components per\\ncertain neural settings. VAEs still suffer from uncertain tradeoff learning.We\\npropose a novel evolutionary variational autoencoder (eVAE) building on the\\nvariational information bottleneck (VIB) theory and integrative evolutionary\\nneural learning. eVAE integrates a variational genetic algorithm into VAE with\\nvariational evolutionary operators including variational mutation, crossover,\\nand evolution. Its inner-outer-joint training mechanism synergistically and\\ndynamically generates and updates the uncertain tradeoff learning in the\\nevidence lower bound (ELBO) without additional constraints. Apart from learning\\na lossy compression and representation of data under the VIB assumption, eVAE\\npresents an evolutionary paradigm to tune critical factors of VAEs and deep\\nneural networks and addresses the premature convergence and random search\\nproblem by integrating evolutionary optimization into deep learning.\\nExperiments show that eVAE addresses the KL-vanishing problem for text\\ngeneration with low reconstruction loss, generates all disentangled factors\\nwith sharp images, and improves the image generation quality,respectively. eVAE\\nachieves better reconstruction loss, disentanglement, and generation-inference\\nbalance than its competitors.\\n',\n",
       " 'versions': [{'version': 'v1', 'created': 'Sun, 1 Jan 2023 23:54:35 GMT'}],\n",
       " 'update_date': '2023-01-03',\n",
       " 'authors_parsed': [['Wu', 'Zhangkai', ''],\n",
       "  ['Cao', 'Longbing', ''],\n",
       "  ['Qi', 'Lei', '']]}"
      ]
     },
     "execution_count": 32,
     "metadata": {},
     "output_type": "execute_result"
    }
   ],
   "source": [
    "data_v1_2023[0]"
   ]
  },
  {
   "cell_type": "code",
   "execution_count": null,
   "metadata": {},
   "outputs": [],
   "source": []
  }
 ],
 "metadata": {
  "kernelspec": {
   "display_name": "Python 3",
   "language": "python",
   "name": "python3"
  },
  "language_info": {
   "codemirror_mode": {
    "name": "ipython",
    "version": 3
   },
   "file_extension": ".py",
   "mimetype": "text/x-python",
   "name": "python",
   "nbconvert_exporter": "python",
   "pygments_lexer": "ipython3",
   "version": "3.11.6"
  }
 },
 "nbformat": 4,
 "nbformat_minor": 2
}
