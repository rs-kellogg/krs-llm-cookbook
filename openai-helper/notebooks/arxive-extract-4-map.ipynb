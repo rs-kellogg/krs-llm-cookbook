{
 "cells": [
  {
   "cell_type": "code",
   "execution_count": 1,
   "metadata": {},
   "outputs": [],
   "source": [
    "import re\n",
    "import json\n",
    "import csv\n",
    "import random\n",
    "from pathlib import Path\n",
    "import pandas as pd\n",
    "import json\n",
    "from tqdm import tqdm\n",
    "import leafmap\n",
    "from datasets import load_dataset\n",
    "from openai import OpenAI"
   ]
  },
  {
   "cell_type": "code",
   "execution_count": 2,
   "metadata": {},
   "outputs": [
    {
     "data": {
      "text/html": [
       "<div>\n",
       "<style scoped>\n",
       "    .dataframe tbody tr th:only-of-type {\n",
       "        vertical-align: middle;\n",
       "    }\n",
       "\n",
       "    .dataframe tbody tr th {\n",
       "        vertical-align: top;\n",
       "    }\n",
       "\n",
       "    .dataframe thead th {\n",
       "        text-align: right;\n",
       "    }\n",
       "</style>\n",
       "<table border=\"1\" class=\"dataframe\">\n",
       "  <thead>\n",
       "    <tr style=\"text-align: right;\">\n",
       "      <th></th>\n",
       "      <th>id</th>\n",
       "      <th>title</th>\n",
       "      <th>author</th>\n",
       "      <th>email</th>\n",
       "      <th>affiliation</th>\n",
       "      <th>longitude</th>\n",
       "      <th>latitude</th>\n",
       "    </tr>\n",
       "  </thead>\n",
       "  <tbody>\n",
       "    <tr>\n",
       "      <th>0</th>\n",
       "      <td>2310.02905</td>\n",
       "      <td>USE YOUR INSTINCT: INSTRUCTION OPTIMIZATION US...</td>\n",
       "      <td>Xiaoqiang Lin</td>\n",
       "      <td>xiaoqiang.lin@comp.nus.edu.sg</td>\n",
       "      <td>Department of Computer Science, National Unive...</td>\n",
       "      <td>103.7764</td>\n",
       "      <td>1.2966</td>\n",
       "    </tr>\n",
       "    <tr>\n",
       "      <th>1</th>\n",
       "      <td>2310.02905</td>\n",
       "      <td>USE YOUR INSTINCT: INSTRUCTION OPTIMIZATION US...</td>\n",
       "      <td>Zhaoxuan Wu</td>\n",
       "      <td>wu.zhaoxuan@comp.nus.edu.sg</td>\n",
       "      <td>Institute of Data Science, National University...</td>\n",
       "      <td>103.7758</td>\n",
       "      <td>1.2949</td>\n",
       "    </tr>\n",
       "    <tr>\n",
       "      <th>2</th>\n",
       "      <td>2310.02905</td>\n",
       "      <td>USE YOUR INSTINCT: INSTRUCTION OPTIMIZATION US...</td>\n",
       "      <td>Zhaoxuan Wu</td>\n",
       "      <td>wu.zhaoxuan@comp.nus.edu.sg</td>\n",
       "      <td>Integrative Sciences and Engineering Programme...</td>\n",
       "      <td>103.7736</td>\n",
       "      <td>1.2995</td>\n",
       "    </tr>\n",
       "    <tr>\n",
       "      <th>3</th>\n",
       "      <td>2310.02905</td>\n",
       "      <td>USE YOUR INSTINCT: INSTRUCTION OPTIMIZATION US...</td>\n",
       "      <td>Zhongxiang Dai</td>\n",
       "      <td>dzx@nus.edu.sg</td>\n",
       "      <td>Department of Computer Science, National Unive...</td>\n",
       "      <td>103.7764</td>\n",
       "      <td>1.2966</td>\n",
       "    </tr>\n",
       "    <tr>\n",
       "      <th>4</th>\n",
       "      <td>2310.02905</td>\n",
       "      <td>USE YOUR INSTINCT: INSTRUCTION OPTIMIZATION US...</td>\n",
       "      <td>Wenyang Hu</td>\n",
       "      <td>wenyang@comp.nus.edu.sg</td>\n",
       "      <td>Department of Computer Science, National Unive...</td>\n",
       "      <td>103.7764</td>\n",
       "      <td>1.2966</td>\n",
       "    </tr>\n",
       "  </tbody>\n",
       "</table>\n",
       "</div>"
      ],
      "text/plain": [
       "           id                                              title  \\\n",
       "0  2310.02905  USE YOUR INSTINCT: INSTRUCTION OPTIMIZATION US...   \n",
       "1  2310.02905  USE YOUR INSTINCT: INSTRUCTION OPTIMIZATION US...   \n",
       "2  2310.02905  USE YOUR INSTINCT: INSTRUCTION OPTIMIZATION US...   \n",
       "3  2310.02905  USE YOUR INSTINCT: INSTRUCTION OPTIMIZATION US...   \n",
       "4  2310.02905  USE YOUR INSTINCT: INSTRUCTION OPTIMIZATION US...   \n",
       "\n",
       "           author                          email  \\\n",
       "0   Xiaoqiang Lin  xiaoqiang.lin@comp.nus.edu.sg   \n",
       "1     Zhaoxuan Wu    wu.zhaoxuan@comp.nus.edu.sg   \n",
       "2     Zhaoxuan Wu    wu.zhaoxuan@comp.nus.edu.sg   \n",
       "3  Zhongxiang Dai                 dzx@nus.edu.sg   \n",
       "4      Wenyang Hu        wenyang@comp.nus.edu.sg   \n",
       "\n",
       "                                         affiliation longitude latitude  \n",
       "0  Department of Computer Science, National Unive...  103.7764   1.2966  \n",
       "1  Institute of Data Science, National University...  103.7758   1.2949  \n",
       "2  Integrative Sciences and Engineering Programme...  103.7736   1.2995  \n",
       "3  Department of Computer Science, National Unive...  103.7764   1.2966  \n",
       "4  Department of Computer Science, National Unive...  103.7764   1.2966  "
      ]
     },
     "execution_count": 2,
     "metadata": {},
     "output_type": "execute_result"
    }
   ],
   "source": [
    "df = pd.read_csv(\"./data/arxiv_metadata_output.csv\")\n",
    "df.head()"
   ]
  },
  {
   "cell_type": "code",
   "execution_count": 5,
   "metadata": {},
   "outputs": [
    {
     "data": {
      "application/vnd.jupyter.widget-view+json": {
       "model_id": "4c796c490b7645198d8bf0f925424cf6",
       "version_major": 2,
       "version_minor": 0
      },
      "text/plain": [
       "Map(center=[20, 0], controls=(ZoomControl(options=['position', 'zoom_in_text', 'zoom_in_title', 'zoom_out_text…"
      ]
     },
     "execution_count": 5,
     "metadata": {},
     "output_type": "execute_result"
    }
   ],
   "source": [
    "map = leafmap.Map()\n",
    "map.add_xy_data(df, x=\"longitude\", y=\"latitude\", layer_name=\"World Cities\")\n",
    "map"
   ]
  },
  {
   "cell_type": "code",
   "execution_count": 4,
   "metadata": {},
   "outputs": [
    {
     "data": {
      "application/vnd.jupyter.widget-view+json": {
       "model_id": "ec8f2967a4ee474c8941354c6996d97d",
       "version_major": 2,
       "version_minor": 0
      },
      "text/plain": [
       "Map(center=[42.0451, -87.6877], close_popup_on_click=False, controls=(ZoomControl(options=['position', 'zoom_i…"
      ]
     },
     "execution_count": 4,
     "metadata": {},
     "output_type": "execute_result"
    }
   ],
   "source": [
    "from ipywidgets import HTML\n",
    "from ipyleaflet import Map, Marker, Popup\n",
    "\n",
    "center = (42.0451, -87.6877)\n",
    "m = Map(center=center, zoom=2, close_popup_on_click=False)\n",
    "\n",
    "\n",
    "for row in df.iterrows():\n",
    "    marker = Marker(location=(row[1]['latitude'], row[1]['longitude']))\n",
    "    message = HTML()\n",
    "    message.value = f\"{row[1]['author']} <b>{row[1]['affiliation']}</b>\"\n",
    "    message.placeholder = \"Author\"\n",
    "    message.description = \"Author\"\n",
    "    marker.popup = message\n",
    "    m.add_layer(marker)\n",
    "\n",
    "m\n"
   ]
  }
 ],
 "metadata": {
  "kernelspec": {
   "display_name": "Python 3",
   "language": "python",
   "name": "python3"
  },
  "language_info": {
   "codemirror_mode": {
    "name": "ipython",
    "version": 3
   },
   "file_extension": ".py",
   "mimetype": "text/x-python",
   "name": "python",
   "nbconvert_exporter": "python",
   "pygments_lexer": "ipython3",
   "version": "3.11.5"
  }
 },
 "nbformat": 4,
 "nbformat_minor": 2
}
